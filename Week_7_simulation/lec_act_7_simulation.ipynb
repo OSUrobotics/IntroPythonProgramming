{
 "cells": [
  {
   "cell_type": "code",
   "execution_count": null,
   "metadata": {
    "deletable": false,
    "editable": false
   },
   "outputs": [],
   "source": [
    "# Initialize Otter\n",
    "import otter\n",
    "grader = otter.Notebook(\"lec_act_7_simulation.ipynb\")"
   ]
  },
  {
   "cell_type": "markdown",
   "metadata": {},
   "source": [
    "# Simulation\n",
    "\n",
    "In this lecture activity, you will simulate a ball accelerating through the air using basic Newtonian physics. The lab and homework also involve simulations, but of a more complex quarter and half car.\n",
    "\n",
    "The lecture activity involves:\n",
    "\n",
    "- Full 2D - position and velocity of a point in space\n",
    "- Integrate velocity as well as position\n",
    "- Acceleration is a function of an inclined plane\n",
    "\n",
    "Slides: https://docs.google.com/presentation/d/1jDIVbp7EkyqVJJCpXnkg9KQl6stHF9WohauL1Lnr3YM/edit?usp=sharing\n"
   ]
  },
  {
   "cell_type": "code",
   "execution_count": null,
   "metadata": {},
   "outputs": [],
   "source": [
    "# The usual imports\n",
    "import numpy as np\n",
    "import matplotlib.pyplot as plt\n",
    "from numpy.polynomial import polynomial\n",
    "import matplotlib.animation as animation\n",
    "# Enable animations to work\n",
    "%matplotlib widget"
   ]
  },
  {
   "cell_type": "markdown",
   "metadata": {
    "tags": [
     "otter_answer_cell"
    ]
   },
   "source": [
    "## One time step\n",
    "TODO: Calculate new position and velocity, given position, velocity, and acceleration"
   ]
  },
  {
   "cell_type": "code",
   "execution_count": null,
   "metadata": {
    "tags": [
     "otter_answer_cell"
    ]
   },
   "outputs": [],
   "source": [
    "def simulate_one_step(x, y, vx, vy, ax, ay, delta_t):\n",
    "    \"\"\" TODO simulate one step forward using Euler integration \n",
    "       (x1 = x0 + delta_t * v0),\n",
    "       (v1 = v0 + delta_t * a0)\n",
    "       @param x, y - position\n",
    "       @param vx, vy - velocity\n",
    "       @param ax, ay - acceleration\n",
    "       @return x_next, y_next, vx_next, vy_next\"\"\"\n",
    "    ..."
   ]
  },
  {
   "cell_type": "code",
   "execution_count": null,
   "metadata": {
    "tags": [
     "otter_answer_cell"
    ]
   },
   "outputs": [],
   "source": [
    "# Time step\n",
    "delta_t = 0.1\n",
    "\n",
    "x = 1\n",
    "y = 2\n",
    "vx = 0.1\n",
    "vy = 0.3\n",
    "ax = 0.001\n",
    "ay = 1.0\n",
    "xnew, ynew, vxnew, vynew = simulate_one_step(x, y, vx, vy, ax, ay, delta_t)\n",
    "\n",
    "# Testing one of these here\n",
    "assert np.isclose(xnew, x + vx * delta_t)"
   ]
  },
  {
   "cell_type": "code",
   "execution_count": null,
   "metadata": {
    "deletable": false,
    "editable": false
   },
   "outputs": [],
   "source": [
    "grader.check(\"compute_one_step\")"
   ]
  },
  {
   "cell_type": "markdown",
   "metadata": {
    "deletable": false,
    "editable": false
   },
   "source": [
    "# Simulate\n",
    "\n",
    "Note that you could use either the number of time steps OR total time for the last parameter\n",
    "\n",
    "Timesteps is a bit safer because at least you know it will only go for so many time steps...\n",
    "\n",
    "In this activity we'll just loop over n time steps; we'll do something \"smarter\" in the lab\n",
    "\n",
    "See Iterate n times in Lab 5 ODE systems for an example of how to store values in an array during a simulation time step\n",
    "\n",
    "\n",
    "TODO: Fill in ret_pose_all"
   ]
  },
  {
   "cell_type": "code",
   "execution_count": null,
   "metadata": {
    "tags": [
     "otter_answer_cell"
    ]
   },
   "outputs": [],
   "source": [
    "def simulate_n_time_steps(x, y, vx, vy, ax, ay, delta_t=0.1, n_time_steps=100):\n",
    "    \"\"\" Call simulate_one_step multiple times and store it in a numpy array\n",
    "    @param starting_state - the starting position, velocity, acceleration\n",
    "    @param delta_t - the time step to use. Define a default t value that you've determined works well\n",
    "    @param n_time_steps - how many time steps to take. Again, default to a reasonable number\n",
    "    @return position values as a 2xtimesteps numpy array\n",
    "    \"\"\"\n",
    "    # TODO\n",
    "    #   Allocate an array to put all the x,y values in\n",
    "    #   Loop n_time_steps\n",
    "    #     Store the current x,y values in the array\n",
    "    #     Call simulate_one_step with the current x,y,vx,vy values\n",
    "    #     Save the returned x,y,vx,vy values as the \"new\" current x,y,vx,vy values\n",
    "    #   return the array\n",
    "    ...\n"
   ]
  },
  {
   "cell_type": "code",
   "execution_count": null,
   "metadata": {
    "tags": [
     "otter_answer_cell"
    ]
   },
   "outputs": [],
   "source": [
    "# Actually run the simulation\n",
    "# Time step\n",
    "delta_t = 0.1\n",
    "x0 = 1\n",
    "y0 = 2\n",
    "vx0 = 0.1\n",
    "vy0 = 0.3\n",
    "ax = 0.001\n",
    "ay = 1.0\n",
    "ret_poses = simulate_n_time_steps(x0, y0, vx0, vy0, ax, ay, delta_t=delta_t, n_time_steps=15)\n",
    "print(f\"First pose: {ret_poses[:, 0]}\")\n",
    "print(f\"Last pose: {ret_poses[:, -1]}\")\n",
    "\n",
    "assert np.isclose(ret_poses[0, 0], x0)\n",
    "assert np.isclose(ret_poses[1, -1], 3.333, atol=0.01)\n"
   ]
  },
  {
   "cell_type": "code",
   "execution_count": null,
   "metadata": {
    "tags": [
     "otter_answer_cell"
    ]
   },
   "outputs": [],
   "source": [
    "# This code animates the output so you can see what your simulation is doing\n",
    "fig_ball, axs_ball = plt.subplots()\n",
    "\n",
    "def draw_ball_frame(i):\n",
    "    axs_ball.clear()\n",
    "    axs_ball.set_ylim([0, 5])\n",
    "    axs_ball.set_xlim([0, 5])\n",
    "    x = ret_poses[0, i]\n",
    "    y = ret_poses[1, i]\n",
    "    ball, = axs_ball.plot(x, y, 'ko')\n",
    "    ball.set_markersize(7)\n",
    "    \n",
    "# We disable repeats for animations because the animation will repeat forever, which can cause issues when re-running a cell.\n",
    "anim = animation.FuncAnimation(fig_ball, draw_ball_frame, frames=15, interval=100, repeat=False)\n",
    "plt.show()"
   ]
  },
  {
   "cell_type": "code",
   "execution_count": null,
   "metadata": {
    "deletable": false,
    "editable": false
   },
   "outputs": [],
   "source": [
    "grader.check(\"simulate\")"
   ]
  },
  {
   "cell_type": "markdown",
   "metadata": {
    "deletable": false,
    "editable": false
   },
   "source": [
    "## Hours and collaborators\n",
    "Required for every assignment - fill out before you hand-in.\n",
    "\n",
    "Listing names and websites helps you to document who you worked with and what internet help you received in the case of any plagiarism issues. You should list names of anyone (in class or not) who has substantially helped you with an assignment - or anyone you have *helped*. You do not need to list TAs.\n",
    "\n",
    "Listing hours helps us track if the assignments are too long."
   ]
  },
  {
   "cell_type": "code",
   "execution_count": null,
   "metadata": {
    "tags": [
     "otter_answer_cell"
    ]
   },
   "outputs": [],
   "source": [
    "\n",
    "# List of names (creates a set)\n",
    "worked_with_names = {\"not filled out\"}\n",
    "# List of URLS F25(creates a set)\n",
    "websites = {\"not filled out\"}\n",
    "# Approximate number of hours, including lab/in-class time\n",
    "hours = -1.5"
   ]
  },
  {
   "cell_type": "code",
   "execution_count": null,
   "metadata": {
    "deletable": false,
    "editable": false
   },
   "outputs": [],
   "source": [
    "grader.check(\"hours_collaborators\")"
   ]
  },
  {
   "cell_type": "markdown",
   "metadata": {},
   "source": [
    "### To submit\n",
    "\n",
    "Double check your plots. \n",
    "\n",
    "- Submit this .ipynb file to lecture activity 7 (simulate)\n",
    "\n",
    "If the Gradescope autograder fails, please check here first for common reasons for it to fail\n",
    "    https://docs.google.com/presentation/d/1tYa5oycUiG4YhXUq5vHvPOpWJ4k_xUPp2rUNIL7Q9RI/edit?usp=sharing\n",
    "\n",
    "Failures: None expected"
   ]
  }
 ],
 "metadata": {
  "kernelspec": {
   "display_name": "base",
   "language": "python",
   "name": "python3"
  },
  "language_info": {
   "codemirror_mode": {
    "name": "ipython",
    "version": 3
   },
   "file_extension": ".py",
   "mimetype": "text/x-python",
   "name": "python",
   "nbconvert_exporter": "python",
   "pygments_lexer": "ipython3",
   "version": "3.11.5"
  },
  "otter": {
   "OK_FORMAT": true,
   "tests": {
    "compute_one_step": {
     "name": "compute_one_step",
     "points": 2,
     "suites": [
      {
       "cases": [
        {
         "code": ">>> assert np.isclose(xnew, x + vx * delta_t)\n",
         "hidden": false,
         "locked": false
        },
        {
         "code": ">>> assert np.isclose(ynew, y + vy * delta_t)\n",
         "hidden": false,
         "locked": false
        },
        {
         "code": ">>> assert np.isclose(vxnew, vx + ax * delta_t)\n",
         "hidden": false,
         "locked": false
        },
        {
         "code": ">>> assert np.isclose(vynew, vy + ay * delta_t)\n",
         "hidden": false,
         "locked": false
        }
       ],
       "scored": true,
       "setup": "",
       "teardown": "",
       "type": "doctest"
      }
     ]
    },
    "hours_collaborators": {
     "name": "hours_collaborators",
     "points": 1,
     "suites": [
      {
       "cases": [
        {
         "code": ">>> assert not 'not filled out' in worked_with_names\n",
         "hidden": false,
         "locked": false
        },
        {
         "code": ">>> assert not 'not filled out' in websites\n",
         "hidden": false,
         "locked": false
        },
        {
         "code": ">>> assert hours > 0\n",
         "hidden": false,
         "locked": false
        }
       ],
       "scored": true,
       "setup": "",
       "teardown": "",
       "type": "doctest"
      }
     ]
    },
    "simulate": {
     "name": "simulate",
     "points": 2,
     "suites": [
      {
       "cases": [
        {
         "code": ">>> assert np.isclose(ret_poses[0, 0], x0, atol=0.1)\n",
         "hidden": false,
         "locked": false
        },
        {
         "code": ">>> assert np.isclose(ret_poses[1, 0], y0, atol=0.1)\n",
         "hidden": false,
         "locked": false
        },
        {
         "code": ">>> assert np.isclose(ret_poses[0, -1], 1.14091, atol=0.1)\n",
         "hidden": false,
         "locked": false
        },
        {
         "code": ">>> assert np.isclose(ret_poses[1, -1], 3.33, atol=0.1)\n",
         "hidden": false,
         "locked": false
        }
       ],
       "scored": true,
       "setup": "",
       "teardown": "",
       "type": "doctest"
      }
     ]
    }
   }
  }
 },
 "nbformat": 4,
 "nbformat_minor": 2
}
