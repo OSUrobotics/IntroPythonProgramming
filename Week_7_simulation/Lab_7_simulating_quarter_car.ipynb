{
 "cells": [
  {
   "cell_type": "code",
   "execution_count": null,
   "id": "2a5c0f03",
   "metadata": {
    "deletable": false,
    "editable": false
   },
   "outputs": [],
   "source": [
    "# Initialize Otter\n",
    "import otter\n",
    "grader = otter.Notebook(\"Lab_7_simulating_quarter_car.ipynb\")"
   ]
  },
  {
   "cell_type": "markdown",
   "id": "62ecb3ac",
   "metadata": {},
   "source": [
    "# Lab 7: Simulating a quarter car\n",
    "\n",
    "Slides for the lab: https://docs.google.com/presentation/d/1jDIVbp7EkyqVJJCpXnkg9KQl6stHF9WohauL1Lnr3YM/edit?usp=sharing \n",
    "\n",
    "In the previous lab, you wrote code to draw a quarter car, which we used to animate the quarter car. In this lab, we will work on simulating the quarter car as a dynamic system so we can animate the car driving down arbitrary roads.\n",
    "\n",
    "See the lecture notes for an image of the dynamic model of a quarter car.\n",
    "\n",
    "In the diagram, $m_s$ is the mass of the car body (sprung mass), $m_u$ is the mass of the wheel itself (unsprung mass), $c_s$ is the damping constant of the suspension, $k_s$ is the spring constant of the suspension, and $k_t$ is the spring constant of the tire.\n",
    "\n",
    "These properties, along with the shape of the road itself, influence the simulation of the quarter car."
   ]
  },
  {
   "cell_type": "markdown",
   "id": "67c82cc6",
   "metadata": {},
   "source": [
    "In this lab, we will be using a _state space model_ to simulate our quarter car. State space models use state variables to describe a system by a set of differential equations. The output of our system will be $y_s$ and $y_u$, the $y$ positions of the sprung and unsprung masses, over time. We will then use those outputs to animate the quarter car driving down the road."
   ]
  },
  {
   "cell_type": "code",
   "execution_count": null,
   "id": "90a94bfa",
   "metadata": {},
   "outputs": [],
   "source": [
    "# Imports\n",
    "import numpy as np\n",
    "from scipy.stats import gamma\n",
    "from scipy.signal import StateSpace, lsim\n",
    "import matplotlib.pyplot as plt\n",
    "import matplotlib.animation as animation\n",
    "# Enable animations to work\n",
    "%matplotlib widget"
   ]
  },
  {
   "cell_type": "markdown",
   "id": "223aaed9",
   "metadata": {
    "deletable": false,
    "editable": false
   },
   "source": [
    "## Part 1: Defining a road as input to the model\n",
    "\n",
    "Before describing the state space model itself, let's discuss the input to the model: A road. The input to the state space system is $y_r$, which is the y coordinate of the road the car is riding on over time. We are working in two dimensions, so our road will be a simple line.\n",
    "\n",
    "But in the real world, the y coordinate of the road depends on the x coordinate of the car's location, which, over time, changes in accordance with the car's velocity, which may itself change due to external input, gravity, etc.\n",
    "\n",
    "To keep our system simple, we will model the car as traveling with a _constant velocity in the x direction_. The road shape and the state space system itself will have no impact on the car's velocity. With a constant velocity in the x direction, we can easily determine the car's x coordinate at a given time point, and use that to determine the road's y coordinate at that location.\n",
    "\n",
    "Let's start by plotting a semi-interesting line with an angular 'bump' in it."
   ]
  },
  {
   "cell_type": "code",
   "execution_count": null,
   "id": "af6651d5",
   "metadata": {
    "tags": [
     "otter_answer_cell"
    ]
   },
   "outputs": [],
   "source": [
    "# Flat section, 5 meters long.\n",
    "x_r_1 = [0, 5]\n",
    "y_r_1 = [0, 0]\n",
    "\n",
    "# Bump going up, 0.3 meters high\n",
    "x_r_2 = [5.01, 5.5]\n",
    "y_r_2 = [0, 0.3]\n",
    "\n",
    "# Bump going down\n",
    "x_r_3 = [5.51, 6.0]\n",
    "y_r_3 = [0.3, 0]\n",
    "\n",
    "# Flat section\n",
    "x_r_4 = [6.01, 11]\n",
    "y_r_4 = [0, 0]\n",
    "\n",
    "X_r = np.concatenate((x_r_1, x_r_2, x_r_3, x_r_4))\n",
    "Y_r = np.concatenate((y_r_1, y_r_2, y_r_3, y_r_4))\n",
    "\n",
    "fig, axs = plt.subplots()\n",
    "axs.plot(X_r, Y_r)\n",
    "# Average height of car is ~1.8m.\n",
    "axs.set_ylim(-0.1, 1.8)\n",
    "\n",
    "plt.show()"
   ]
  },
  {
   "cell_type": "code",
   "execution_count": null,
   "id": "1bcfdec0",
   "metadata": {
    "tags": [
     "otter_answer_cell"
    ]
   },
   "outputs": [],
   "source": [
    "# Car is traveling at 10 m/s.\n",
    "velocity = 10\n",
    "# Evaluate the car's position every 10ms (10ms time step)\n",
    "dt = 10\n",
    "# Distance traveled each time step, in meters.\n",
    "# dt is in milliseconds, so we convert it to seconds by dividing by 1000.\n",
    "x_dt = velocity * (dt / 1000)\n",
    "# X_r[-1] is shorthand for 'the last item in X_r', which is the last x coordinate in th road.\n",
    "X_c = np.arange(0, X_r[-1], x_dt)\n",
    "# np.interp allows us to interpolate a line at specific x coordinates!\n",
    "Y_c = np.interp(X_c, X_r, Y_r)\n",
    "\n",
    "# Plot these points.\n",
    "fig, axs = plt.subplots(1,2)\n",
    "# Prevent plot titles from overlaying other plots.\n",
    "fig.tight_layout()\n",
    "# Average height of car is ~1.8m.\n",
    "axs[0].set_ylim(-0.1, 1.8)\n",
    "axs[1].set_ylim(-0.1, 1.8)\n",
    "\n",
    "axs[0].plot(X_r, Y_r)\n",
    "axs[0].set_title(\"Original road\")\n",
    "# Plot points for car position -- blue circles\n",
    "axs[1].plot(X_c, Y_c, 'bo')\n",
    "axs[1].set_title(\"Sampling w/ 10ms timesteps\")\n",
    "\n",
    "plt.show()"
   ]
  },
  {
   "cell_type": "code",
   "execution_count": null,
   "id": "a4e7d87f",
   "metadata": {
    "tags": [
     "otter_answer_cell"
    ]
   },
   "outputs": [],
   "source": [
    "def interpolate_road(X_r, Y_r, velocity, dt):\n",
    "    \"\"\"\n",
    "    Interpolate the road (X_r and Y_r) for a car traveling with\n",
    "    the given velocity (in m/s) at timestamps every dt milliseconds.\n",
    "    @param X_r numpy array containing the X coordinates of the road (in meters)\n",
    "    @param Y_r numpy array containing the Y coordinates of the road (in meters)\n",
    "    @param velocity of the car in m/s\n",
    "    @param dt Change in time in milliseconds between interpolation points.\n",
    "    @return (X, Y) of the interpolated road, as a Python tuple\n",
    "    \"\"\"\n",
    "    # TODO: Define function.\n",
    "    ..."
   ]
  },
  {
   "cell_type": "code",
   "execution_count": null,
   "id": "ad916a26",
   "metadata": {
    "tags": [
     "otter_answer_cell"
    ]
   },
   "outputs": [],
   "source": [
    "# Check code\n",
    "fig_2, axs_2 = plt.subplots()\n",
    "X_c2, Y_c2 = interpolate_road(X_r, Y_r, 10, 10)\n",
    "axs_2.plot(X_c2, Y_c2)\n",
    "plt.show()"
   ]
  },
  {
   "cell_type": "code",
   "execution_count": null,
   "id": "9c9f1b37",
   "metadata": {
    "deletable": false,
    "editable": false
   },
   "outputs": [],
   "source": [
    "grader.check(\"interpolate_road\")"
   ]
  },
  {
   "cell_type": "markdown",
   "id": "17c77e46",
   "metadata": {
    "deletable": false,
    "editable": false
   },
   "source": [
    "Now, use `interpolate_road` to find a `dt` where the bump in the road disappears. Graph your results."
   ]
  },
  {
   "cell_type": "code",
   "execution_count": null,
   "id": "545fec91",
   "metadata": {
    "tags": [
     "otter_answer_cell"
    ]
   },
   "outputs": [],
   "source": [
    "fig_no_bump, axs_no_bump = plt.subplots(2)\n",
    "fig_no_bump.tight_layout()\n",
    "\n",
    "# Average height of car is ~1.8m.\n",
    "axs_no_bump[0].set_ylim(-0.1, 1.8)\n",
    "axs_no_bump[1].set_ylim(-0.1, 1.8)\n",
    "\n",
    "axs_no_bump[0].plot(X_r, Y_r)\n",
    "axs_no_bump[0].set_title(\"Original road\")\n",
    "\n",
    "# TODO: Experiment with different dt values until the bump in the road goes away.\n",
    "dt_2 = 10\n",
    "(X_c3, Y_c3) = interpolate_road(X_r, Y_r, 10, dt_2)\n",
    "\n",
    "# Plot points for car position -- blue circles\n",
    "axs_no_bump[1].plot(X_c3, Y_c3, 'bo')\n",
    "axs_no_bump[1].set_title(f\"Sampling w/ {dt_2}ms timesteps\")"
   ]
  },
  {
   "cell_type": "code",
   "execution_count": null,
   "id": "e5e55b8b",
   "metadata": {
    "deletable": false,
    "editable": false
   },
   "outputs": [],
   "source": [
    "grader.check(\"interpolate_road_2\")"
   ]
  },
  {
   "cell_type": "markdown",
   "id": "45df6b1f",
   "metadata": {
    "deletable": false,
    "editable": false
   },
   "source": [
    "## Part 2: The state space model for a quarter car\n",
    "\n",
    "As mentioned above, a state space model is comprised of a set of differential equations describing the system. The equations are translated into a set of standard matrices that represent the system, which can then be passed into a solver.\n",
    "\n",
    "We can express our quarter car as a set of differential equations, translate them into the standard matrices, and then simulate a quarter car traveling down arbitrary roads. These differential equations solve for the position of the sprung (car body) and unsprung (wheel) masses ($m_s$ and $m_u$) in the y direction over time as the car travels down the road."
   ]
  },
  {
   "cell_type": "markdown",
   "id": "73e41a58",
   "metadata": {
    "deletable": false,
    "editable": false
   },
   "source": [
    "\n",
    "### $y_s$: The y position of the sprung mass (car body)\n",
    "\n",
    "The equations influencing the state space model of the quarter car follow from Newton's second law which states that:\n",
    "\n",
    "$$F = ma$$\n",
    "\n",
    "Although our car is traveling down the road in the $x$ direction, we are actually looking in the $y$ direction in our system as our car \"bounces\". Thus, in our case, $a$ can also be described as the second derivative of the $y$ position of an object, $\\ddot{y}$.\n",
    "\n",
    "So, for the sprung mass, we have:\n",
    "\n",
    "$$F_s = m_s\\ddot{y}$$\n",
    "\n",
    "We actually have two forces at play on the sprung mass: $F_c$, the force of the damper; $F_k$, the force of the suspension's spring:\n",
    "\n",
    "$$m_s\\ddot{y} = F_c + F_k$$\n",
    "\n",
    "$F_k$ is a spring, and its force comes from Hooke's Law:\n",
    "\n",
    "$$F=-kx$$\n",
    "\n",
    "...where $k$ is the spring constant and $x$ is the distance the spring is stretched or compressed from its equilibrium position. We can express the suspension spring's distance in terms of the $y$ position of the items bookending the spring, $y_s$ and $y_u$:\n",
    "\n",
    "$$F_k = -k_{s}(y_s - y_u)$$\n",
    "\n",
    "The damping force $F_c$ is expressed as:\n",
    "\n",
    "$$F=-cv$$\n",
    "\n",
    "...where $c$ is the damping coefficient and $v$ is the velocity of the object. The damper is directly attached to the sprung and unsprung masses, so its final velocity is relative to the velocity of those items in the y direction. Using $\\dot{y}$ to indicate the velocity of an object in the $y$ direction, we have:\n",
    "\n",
    "$$F_c = -c_{s}(\\dot{y_s}-\\dot{y_u})$$\n",
    "\n",
    "Put it all together, and:\n",
    "\n",
    "$$m_s\\ddot{y_s} = -c_{s}(\\dot{y_s}-\\dot{y_u}) - k_{s}(y_s - y_u)$$\n",
    "\n",
    "Solve for $\\ddot{y_s}$, and you have:\n",
    "\n",
    "$$\\ddot{y_s} = \\frac{-c_{s}(\\dot{y_s}-\\dot{y_u}) - k_{s}(y_s - y_u)}{m_s}$$\n",
    "\n",
    "Move the terms around to express each term with relation to a $y$ variable, and you get:\n",
    "\n",
    "$$\\ddot{y_s} = \\frac{k_s}{m_s}y_u + \\frac{c_s}{m_s}\\dot{y_u} + \\frac{-k_s}{m_s}y_s + \\frac{-c_s}{m_s}\\dot{y_s}$$\n",
    "\n",
    "### $y_u$: The y position of the unsprung mass (wheel)\n",
    "\n",
    "The unsprung mass is below the suspension's damper and spring, which are pushng it down ($-F_c$, -$F_k$), and above the tire, which is acting like a spring and pushing it up ($F_t$). Put it together, and you have:\n",
    "\n",
    "$$m_u\\ddot{y_u} = - F_c - F_k + F_t$$\n",
    "\n",
    "Similar to the process above, this breaks down to (where $y_r$ is the $y$ position of the road):\n",
    "\n",
    "$$m_u\\ddot{y_u} = c_{s}(\\dot{y_s}-\\dot{y_u}) + k_{s}(y_s - y_u) - k_{t}(y_u - y_r)$$\n",
    "\n",
    "Like above, if we solve for $\\ddot{y_u}$ and make all of the terms in relation to a $y$ variable, you get:\n",
    "\n",
    "$$\\ddot{y_u} = \\frac{-(k_s + k_t)}{m_u}y_u + \\frac{-c_s}{m_u}\\dot{y_u} + \\frac{k_{s}}{m_u}y_{s} + \\frac{c_{s}}{m_u}\\dot{y_{s}} + \\frac{k_{t}}{m_u}y_{r}$$\n",
    "\n",
    "### Translating into a state space model\n",
    "\n",
    "The state space model contains four matrices that describe a system, although we only need to use three for this system:\n",
    "\n",
    "* $A$: The _transition matrix_ which describes how changes in a state variable (the derivative of that variable) are influenced by other variables in the system.\n",
    "* $B$: The _input matrix_, which describes how external factors affects each state variable. In the quarter car, the external factor is the $y$ position of the road.\n",
    "* $C$: The _output matrix_ determines the relationship between the internal state variables and the output we want from the system.\n",
    "* $D$: Describes how the input directly influences the system's output, which is not relevant for this system.\n",
    "\n",
    "#### $A$: The transition matrix\n",
    "\n",
    "The transition matrix is the heart of our system. From our equations, the state variables in our system are:\n",
    "\n",
    "1. $y_u$, the y position of the unsprung mass.\n",
    "2. $\\dot{y_u}$, the y velocity of the unsprung mass.\n",
    "3. $y_s$, the y position of the sprung mass.\n",
    "4. $\\dot{y_s}$, the y velocity of the sprung mass.\n",
    "\n",
    "_(Note to astute readers: $y_r$ in the equations is an external variable; we will get to it when we discuss the $B$ matrix.)_\n",
    "\n",
    "Each entry in $A$ describes the relationship between a specific state variable and its derivative:\n",
    "\n",
    "| | $y_u$ | $\\dot{y_u}$ | $y_s$ | $\\dot{y_s}$ |\n",
    "|-|-------|-----------|-------|-------------|\n",
    "|$\\dot{y_u}$ | |\n",
    "|$\\ddot{y_u}$ |\n",
    "|$\\dot{y_s}$ |\n",
    "|$\\ddot{y_s}$ |\n",
    "\n",
    "As you can see, some of the derivatives of our state variables actually directly correspond to other state variables! Since $\\dot{y_u} = \\dot{y_u}$ and $\\dot{y_s} = \\dot{y_s}$, we can put a $1$ in the matrix entries since $\\dot{y_u} = 1*\\dot{y_u}$:\n",
    "\n",
    "| | $y_u$ | $\\dot{y_u}$ | $y_s$ | $\\dot{y_s}$ |\n",
    "|-|-------|-----------|-------|-------------|\n",
    "|$\\dot{y_u}$ | | 1 |\n",
    "|$\\ddot{y_u}$ |\n",
    "|$\\dot{y_s}$ | | | | 1 |\n",
    "|$\\ddot{y_s}$ |\n",
    "\n",
    "Also, the position of an object has no influence over its velocity; it's the other way around. And the position of the unsprung mass has no direct bearing on the sprung mass's velocity or position. So, we can plug in a few 0s:\n",
    "\n",
    "| | $y_u$ | $\\dot{y_u}$ | $y_s$ | $\\dot{y_s}$ |\n",
    "|-|-------|-----------|-------|-------------|\n",
    "|$\\dot{y_u}$ | 0 | 1 | 0 | 0 |\n",
    "|$\\ddot{y_u}$ |\n",
    "|$\\dot{y_s}$ | 0 | 0 | 0 | 1 |\n",
    "|$\\ddot{y_s}$ |\n",
    "\n",
    "The remaining rows are more interesting. If you recall from above, we solved for $\\ddot{y_u}$ and $\\ddot{y_s}$ in terms of the other state variables:\n",
    "\n",
    "$$\\ddot{y_u} = \\frac{-(k_s + k_t)}{m_u}y_u + \\frac{-c_s}{m_u}\\dot{y_u} + \\frac{k_{s}}{m_u}y_{s} + \\frac{c_{s}}{m_u}\\dot{y_{s}} + \\frac{k_{t}}{m_u}y_{r}$$\n",
    "\n",
    "$$\\ddot{y_s} = \\frac{k_s}{m_s}y_u + \\frac{c_s}{m_s}\\dot{y_u} + \\frac{-k_s}{m_s}y_s + \\frac{-c_s}{m_s}\\dot{y_s}$$\n",
    "\n",
    "Ignoring terms for the external variable $y_r$, we can plug all of the above into the matrix to get:\n",
    "\n",
    "| | $y_u$ | $\\dot{y_u}$ | $y_s$ | $\\dot{y_s}$ |\n",
    "|-|-------|-----------|-------|-------------|\n",
    "|$\\dot{y_u}$ | 0 | 1 | 0 | 0 |\n",
    "|$\\ddot{y_u}$ | $\\frac{-(k_s + k_t)}{m_s}$ | $\\frac{-c_s}{m_u}$ | $\\frac{k_{s}}{m_u}$ | $\\frac{c_{s}}{m_u}$ | \n",
    "|$\\dot{y_s}$ | 0 | 0 | 0 | 1 |\n",
    "|$\\ddot{y_s}$ | $\\frac{k_s}{m_s}$ | $\\frac{c_s}{m_s}$ | $\\frac{-k_s}{m_s}$ | $\\frac{-c_s}{m_s}$ |\n",
    "\n",
    "\n",
    "#### $B$: The _input matrix_\n",
    "\n",
    "$B$ describes the relationship of external variables to changes in the input variables. Our system has one external variable; $y_r$, the y position of the road; so $B$ looks like this:\n",
    "\n",
    "| | $y_r$ |\n",
    "|-|-------|\n",
    "|$\\dot{y_u}$ |\n",
    "|$\\ddot{y_u}$ |\n",
    "|$\\dot{y_s}$ |\n",
    "|$\\ddot{y_s}$ |\n",
    "\n",
    "Our equations above only have one term with relation to $y_r$:\n",
    "\n",
    "$$\\ddot{y_u} = \\ldots + \\frac{k_{t}}{m_u}y_{r}$$\n",
    "\n",
    "So, our $B$ matrix is:\n",
    "\n",
    "| | $y_r$ |\n",
    "|-|-------|\n",
    "|$\\dot{y_u}$ | 0 |\n",
    "|$\\ddot{y_u}$ | $\\frac{k_t}{m_u}$ |\n",
    "|$\\dot{y_s}$ | 0 |\n",
    "|$\\ddot{y_s}$ | 0 |\n",
    "\n",
    "#### $C$: The _output matrix_\n",
    "\n",
    "The _output matrix_ describes the relationship between the internal state variables and the output we want from the system. For our animation, we need $y_u$ and $y_s$, the positions of the sprung and unsprung masses. Those are our _output variables_, which happen to directly correspond to input variables!\n",
    "\n",
    "So, our $C$ matrix is:\n",
    "\n",
    "| | $y_u$ | $\\dot{y_u}$ | $y_s$ | $\\dot{y_s}$ |\n",
    "|-|-------|-----------|-------|-------------|\n",
    "| $y_u$ | 1 | 0 | 0 | 0 |\n",
    "| $y_s$ | 0 | 0 | 1 | 0 |\n",
    "\n",
    "#### $D$: How input influences output\n",
    "\n",
    "$D$ describes how our input variable ($y_r$) directly impacts change in output variables ($\\dot{y_u}$ and $\\dot{y_s}$). Our system is simple, in that our output variables are actually the same as state variables, so $B$ actually captures all that we need here.\n",
    "\n",
    "Thus, $D$ is all zeroes:\n",
    "\n",
    "| | $y_r$ |\n",
    "|-|-------|\n",
    "| $\\dot{y_u}$ | 0 |\n",
    "| $\\dot{y_s}$ | 0 |"
   ]
  },
  {
   "cell_type": "markdown",
   "id": "ebff6274",
   "metadata": {
    "deletable": false,
    "editable": false
   },
   "source": [
    "### Translating the state space model into Python\n",
    "\n",
    "In Python, Scipy has direct support for solving state space systems. In this lab, you will define a `QuarterCarModel` class along with a function that creates the $A$, $B$, $C$, and $D$ matrices and solves the state space model for a given road.\n",
    "\n",
    "Now we know:\n",
    "\n",
    "* How to break up a road (a line) into discrete points.\n",
    "* How to express the system as a state space system\n",
    "\n",
    "Let's put this all into a `QuarterCarModel` class so we can animate our quarter car from lab 6 on arbitrary roads!"
   ]
  },
  {
   "cell_type": "code",
   "execution_count": null,
   "id": "1d196801",
   "metadata": {
    "tags": [
     "otter_answer_cell"
    ]
   },
   "outputs": [],
   "source": [
    "class QuarterCarSimulationOutput:\n",
    "    \"\"\"\n",
    "    Utility class that holds the output of our simulation.    \n",
    "    \"\"\"\n",
    "\n",
    "    def __init__(self, velocity, time, x_r, dt, y_s, y_u, y_r):\n",
    "        # Speed of the car in the x direction.\n",
    "        self.velocity = velocity\n",
    "        # time[i] is how long the car has been traveling after i timesteps\n",
    "        self.time = time\n",
    "        # Simulation granularity, in milliseconds.\n",
    "        self.dt = dt\n",
    "        # y position of the sprung mass (car body) every dt\n",
    "        self.y_s = y_s\n",
    "        # y position of the unsprung mass (wheel) every dt\n",
    "        self.y_u = y_u\n",
    "        # x position of the road every dt\n",
    "        self.x_r = x_r\n",
    "        # y position of the road every dt\n",
    "        self.y_r = y_r\n",
    "\n",
    "class QuarterCarModel:\n",
    "    def __init__(self, m_s=210, m_u=53, c_s=10000, k_s=10000, k_t=200000):\n",
    "        \"\"\"\n",
    "        Initialize the quarter car\n",
    "        TODO: Write the function to set the properties on `self`.\n",
    "        @param m_s Sprung mass in kg\n",
    "        @param m_u Unsprung mass in kg\n",
    "        @param c_s Damping constant in Ns/m\n",
    "        @param k_s Spring constant for suspension's spring in N/m\n",
    "        @param k_t Spring constant for tire in N/m\n",
    "        \"\"\"\n",
    "        ...\n",
    "\n",
    "    def A(self):\n",
    "        # TODO: Return the A matrix in the state system.\n",
    "        ...\n",
    "\n",
    "    def B(self):\n",
    "        # TODO: Return the B matrix in the state system.\n",
    "        ...\n",
    "\n",
    "    def C(self):\n",
    "        return np.array([\n",
    "            [1, 0, 0, 0],\n",
    "            [0, 0, 1, 0],\n",
    "        ])\n",
    "\n",
    "    def D(self):\n",
    "        return np.array([[0], [0]])\n",
    "\n",
    "\n",
    "    def simulate(self, velocity, dt, x_r, y_r):\n",
    "        \"\"\"\n",
    "        Simulates the quarter car traveling down the road at the given velocity every dt milliseconds defined by x_r and y_r.\n",
    "        @param velocity Velocity of the car in the x direction in m/s.\n",
    "        @param dt Timestep of the simulation in milliseconds\n",
    "        @param x_r, y_r The road\n",
    "        @return QuarterCarSimulationOutput containing the simulation's output.\n",
    "        \"\"\"\n",
    "        sys = StateSpace(self.A(), self.B(), self.C(), self.D())\n",
    "\n",
    "        # TODO: Use `interpolate_road` to interpolate the road for the car's velocity and timestamp.\n",
    "        x_c, y_c = (..., ...)\n",
    "        \n",
    "\n",
    "        # We need to translate x_c from an array of positions to an array of timestamps.\n",
    "        # Since the car is traveling at a constant velocity, we can divide the car's\n",
    "        # distance by its velocity to recover the current time (in seconds)\n",
    "        time = x_c / velocity\n",
    "\n",
    "        [_,y_out,_] =  lsim(sys, y_c, time)\n",
    "\n",
    "        # Extract the output variables\n",
    "        y_s      = y_out[:,0]\n",
    "        y_u     = y_out[:,1]\n",
    "\n",
    "        return QuarterCarSimulationOutput(velocity=velocity, time=time, x_r=x_c, dt=dt, y_s=y_s, y_u=y_u, y_r=y_c)\n"
   ]
  },
  {
   "cell_type": "code",
   "execution_count": null,
   "id": "9275d270",
   "metadata": {
    "tags": [
     "otter_answer_cell"
    ]
   },
   "outputs": [],
   "source": [
    "# TODO: Paste in draw_* functions from Lab 6.\n"
   ]
  },
  {
   "cell_type": "code",
   "execution_count": null,
   "id": "019dffff",
   "metadata": {
    "tags": [
     "otter_answer_cell"
    ]
   },
   "outputs": [],
   "source": [
    "# TODO: Paste in QuarterCar class from Lab 6.\n"
   ]
  },
  {
   "cell_type": "code",
   "execution_count": null,
   "id": "195b3c37",
   "metadata": {
    "tags": [
     "otter_answer_cell"
    ]
   },
   "outputs": [],
   "source": [
    "car = QuarterCar()\n",
    "car_model = QuarterCarModel()\n",
    "output = car_model.simulate(velocity=10, dt=10, x_r=X_r, y_r=Y_r)\n",
    "\n",
    "fig_anim, axs_anim = plt.subplots()\n",
    "\n",
    "# The x/y axes are like our camera.\n",
    "#\n",
    "# We want the y limit to be big enough to show the road, the height of the car, and some extra buffer above the car.\n",
    "# For the y limit, find the peak in the road and add twice the car's static height.\n",
    "y_lim_max = np.max(Y_r) + (car.y_s_static*2)\n",
    "# We want the x limit to show the full length of the car plus a buffer, and change its offset depending on the\n",
    "# car's position. We accomplish this goal by setting it to 2x the car's width.\n",
    "x_size_max = car.w_s * 2\n",
    "\n",
    "# We want the size of the x and y axs to be the same so the aspect ratio of the output isn't squished.\n",
    "fig_width_and_height = max(y_lim_max, x_size_max)\n",
    "\n",
    "\n",
    "def draw_car_frame(i):\n",
    "    \"\"\"\n",
    "    Draws frame `i` of our animation into axs_anim.\n",
    "    @param i Integer indicating which frame of the animation we are on.\n",
    "    \"\"\"\n",
    "    axs_anim.clear()\n",
    "    # Set the y limit just a little below 0 so we see the road line at y=0.\n",
    "    axs_anim.set_ylim([-0.1, fig_width_and_height])\n",
    "    # Center the camera on the car's current x position on the road.\n",
    "    axs_anim.set_xlim([output.x_r[i] - (fig_width_and_height / 2), output.x_r[i] + (fig_width_and_height / 2)])\n",
    "    # Draw the original road line, not output.x_r. output.x_r is sampled.\n",
    "    axs_anim.plot(X_r, Y_r, 'k')\n",
    "    car.draw(axs=axs_anim, x=output.x_r[i], y_s=output.y_s[i], y_u=output.y_u[i], y_r=output.y_r[i])\n",
    "\n",
    "# Play the animation at half speed.\n",
    "playback_speed = 0.5\n",
    "# We disable repeats for animations because the animation will repeat forever, which can cause issues when re-running a cell.\n",
    "anim = animation.FuncAnimation(fig_anim, draw_car_frame, frames=len(output.x_r), interval=output.dt / playback_speed, repeat=False)\n",
    "plt.show()"
   ]
  },
  {
   "cell_type": "code",
   "execution_count": null,
   "id": "c03d4097",
   "metadata": {
    "deletable": false,
    "editable": false
   },
   "outputs": [],
   "source": [
    "grader.check(\"state_space_model\")"
   ]
  },
  {
   "cell_type": "markdown",
   "id": "8d3808b9",
   "metadata": {
    "deletable": false,
    "editable": false
   },
   "source": [
    "<!-- BEGIN QUESTION -->\n",
    "\n",
    "## Part 3: Experimenting with `dt` \n",
    "Now we have a way to simulate quarter cars on arbitrary roads!\n",
    "\n",
    "First, let's generalize the animation function so that you can easily animate new cars."
   ]
  },
  {
   "cell_type": "markdown",
   "id": "5f136ee5",
   "metadata": {
    "tags": [
     "otter_answer_cell"
    ]
   },
   "source": [
    "_Type your answer here, replacing this text._"
   ]
  },
  {
   "cell_type": "code",
   "execution_count": null,
   "id": "92235235",
   "metadata": {
    "tags": [
     "otter_answer_cell"
    ]
   },
   "outputs": [],
   "source": [
    "def animate_car(car_model, car, velocity, dt, x_r, y_r, playback_speed=1.0):\n",
    "    \"\"\"\n",
    "    Animate the given car going down the given road.\n",
    "    @param car_model The `QuarterCarModel` to run the simulation with.\n",
    "    @param car The `QuarterCar` to draw in the animation.\n",
    "    @param velocity The velocity of the quarter car in the x direction in m/s.\n",
    "    @param dt The time step of the simulation\n",
    "    @param x_r, y_r The x and y coordinates of the road.\n",
    "    @param playback_speed A value that is > 0 that indicates the playback speed (e.g., 0.1 is 10x slowdown).\n",
    "    @return The animation object from animation.Funcanimation.\n",
    "    \"\"\"\n",
    "    # TODO: Define function\n",
    "    ..."
   ]
  },
  {
   "cell_type": "code",
   "execution_count": null,
   "id": "c6e2f863",
   "metadata": {
    "tags": [
     "otter_answer_cell"
    ]
   },
   "outputs": [],
   "source": [
    "# This should work.\n",
    "#\n",
    "# Although we don't do anything with `anim`, if we don't save it into a variable,\n",
    "# Python will delete it before it animates. Saving it into a variable tells Python to\n",
    "# keep it around to animate.\n",
    "#\n",
    "# If your animation isn't working, make sure you are returning the animation in your function!\n",
    "anim = animate_car(car=car, car_model=car_model, velocity=10, dt=10, x_r=X_r, y_r=Y_r, playback_speed=0.5)\n",
    "plt.show()"
   ]
  },
  {
   "cell_type": "code",
   "execution_count": null,
   "id": "a15c3b00",
   "metadata": {
    "tags": [
     "otter_answer_cell"
    ]
   },
   "outputs": [],
   "source": [
    "# TODO: Animate car with the large timestamp that misses the bump."
   ]
  },
  {
   "cell_type": "code",
   "execution_count": null,
   "id": "b8711a8b",
   "metadata": {
    "tags": [
     "otter_answer_cell"
    ]
   },
   "outputs": [],
   "source": [
    "# TODO: animate car with a small timestamp."
   ]
  },
  {
   "cell_type": "code",
   "execution_count": null,
   "id": "014b859e",
   "metadata": {
    "tags": [
     "otter_answer_cell"
    ]
   },
   "outputs": [],
   "source": [
    "print(\"This is a manually-graded question; there is no grader.check() function. See rubric and slides for more information on expected output.\")"
   ]
  },
  {
   "cell_type": "markdown",
   "id": "e778817a",
   "metadata": {
    "deletable": false,
    "editable": false
   },
   "source": [
    "<!-- END QUESTION -->\n",
    "\n",
    "<!-- BEGIN QUESTION -->\n",
    "\n",
    "# Part 4: Playing with the simulation\n",
    "\n",
    "Now we have a way to simulate and animate a quarter car. Your job now is to define a road that makes the simulation go haywire. And by haywire, we mean that the car enters a state during the animation where it is drawn incorrectly (unsprung mass over sprung mass, damper poking through a mass, etc)."
   ]
  },
  {
   "cell_type": "code",
   "execution_count": null,
   "id": "e6517e1a",
   "metadata": {
    "tags": [
     "otter_answer_cell"
    ]
   },
   "outputs": [],
   "source": [
    "# TODO: Define a road in X_r_haywire and Y_r_haywire that makes the simulation go haywire.\n",
    "# Like with the previous road, you may need to define it in multiple segments\n",
    "# and combine them together.\n",
    "#\n",
    "# Show your animation to a TA for signoff, and explain what you did.\n",
    "X_r_haywire = ...\n",
    "Y_r_haywire = ..."
   ]
  },
  {
   "cell_type": "code",
   "execution_count": null,
   "id": "14e761f1",
   "metadata": {
    "tags": [
     "otter_answer_cell"
    ]
   },
   "outputs": [],
   "source": [
    "anim = animate_car(car=car, car_model=car_model, velocity=10, dt=10, x_r=X_r_haywire, y_r=Y_r_haywire, playback_speed=0.5)\n",
    "plt.show()"
   ]
  },
  {
   "cell_type": "code",
   "execution_count": null,
   "id": "d5a16e0d",
   "metadata": {
    "tags": [
     "otter_answer_cell"
    ]
   },
   "outputs": [],
   "source": [
    "print(\"This is a manually-graded question; there is no grader.check() function. See rubric and slides for more information on expected output.\")"
   ]
  },
  {
   "cell_type": "markdown",
   "id": "2c75e6b0",
   "metadata": {
    "deletable": false,
    "editable": false
   },
   "source": [
    "<!-- END QUESTION -->\n",
    "\n",
    "## Hours and collaborators\n",
    "Required for every assignment - fill out before you hand-in.\n",
    "\n",
    "Listing names and websites helps you to document who you worked with and what internet help you received in the case of any plagiarism issues. You should list names of anyone (in class or not) who has substantially helped you with an assignment - or anyone you have *helped*. You do not need to list TAs.\n",
    "\n",
    "Listing hours helps us track if the assignments are too long."
   ]
  },
  {
   "cell_type": "code",
   "execution_count": null,
   "id": "cd040c1e",
   "metadata": {
    "tags": [
     "otter_answer_cell"
    ]
   },
   "outputs": [],
   "source": [
    "\n",
    "# List of names (creates a set)\n",
    "worked_with_names = {\"not filled out\"}\n",
    "# List of URLS F25(creates a set)\n",
    "websites = {\"not filled out\"}\n",
    "# Approximate number of hours, including lab/in-class time\n",
    "hours = -1.5"
   ]
  },
  {
   "cell_type": "code",
   "execution_count": null,
   "id": "12bee6d1",
   "metadata": {
    "deletable": false,
    "editable": false
   },
   "outputs": [],
   "source": [
    "grader.check(\"hours_collaborators\")"
   ]
  },
  {
   "cell_type": "markdown",
   "id": "71bea7e6",
   "metadata": {},
   "source": [
    "### To submit\n",
    "\n",
    "Double check your plots. \n",
    "\n",
    "- Submit this .ipynb file to Lab 7 (simulating quarter car)\n",
    "\n",
    "Failures: None expected"
   ]
  }
 ],
 "metadata": {
  "kernelspec": {
   "display_name": "base",
   "language": "python",
   "name": "python3"
  },
  "language_info": {
   "codemirror_mode": {
    "name": "ipython",
    "version": 3
   },
   "file_extension": ".py",
   "mimetype": "text/x-python",
   "name": "python",
   "nbconvert_exporter": "python",
   "pygments_lexer": "ipython3",
   "version": "3.11.5"
  },
  "otter": {
   "OK_FORMAT": true,
   "tests": {
    "hours_collaborators": {
     "name": "hours_collaborators",
     "points": 1,
     "suites": [
      {
       "cases": [
        {
         "code": ">>> assert not 'not filled out' in worked_with_names\n",
         "hidden": false,
         "locked": false
        },
        {
         "code": ">>> assert not 'not filled out' in websites\n",
         "hidden": false,
         "locked": false
        },
        {
         "code": ">>> assert hours > 0\n",
         "hidden": false,
         "locked": false
        }
       ],
       "scored": true,
       "setup": "",
       "teardown": "",
       "type": "doctest"
      }
     ]
    },
    "interpolate_road": {
     "name": "interpolate_road",
     "points": 1,
     "suites": [
      {
       "cases": [
        {
         "code": ">>> assert np.isclose(X_c, X_c2).all()\n",
         "hidden": false,
         "locked": false
        },
        {
         "code": ">>> assert np.isclose(Y_c, Y_c2).all()\n",
         "hidden": false,
         "locked": false
        }
       ],
       "scored": true,
       "setup": "",
       "teardown": "",
       "type": "doctest"
      }
     ]
    },
    "interpolate_road_2": {
     "name": "interpolate_road_2",
     "points": 1,
     "suites": [
      {
       "cases": [
        {
         "code": ">>> assert np.isclose(np.max(Y_c3), 0.0), f'Bump still exists in sampled road: Found point at {np.max(Y_c3)} which is > 0.0'\n",
         "hidden": false,
         "locked": false
        }
       ],
       "scored": true,
       "setup": "",
       "teardown": "",
       "type": "doctest"
      }
     ]
    },
    "state_space_model": {
     "name": "state_space_model",
     "points": 3,
     "suites": [
      {
       "cases": [
        {
         "code": ">>> check_a_matches = np.isclose(car_model.A(), np.array([[0, 1, 0, 0], [-3962.26415, -188.679245, 188.679245, 188.679245], [0, 0, 0, 1], [47.6190476, 47.6190476, -47.6190476, -47.6190476]]))\n>>> check_a_non_match_indices = np.where(check_a_matches == False)\n>>> assert check_a_matches.all(), f'`A` matrix does not match expected value: item at position [{check_a_non_match_indices[0][0]}, {check_a_non_match_indices[1][0]}] does not match'\n",
         "hidden": false,
         "locked": false
        },
        {
         "code": ">>> check_b_matches = np.isclose(car_model.B(), np.array([[0], [3773.58490566], [0], [0]]))\n>>> check_b_non_match_indices = np.where(check_b_matches == False)\n>>> assert check_b_matches.all(), f'`B` matrix does not match expected value: item at position [{check_b_non_match_indices[0][0]}, {check_b_non_match_indices[1][0]}] does not match'\n",
         "hidden": false,
         "locked": false
        }
       ],
       "scored": true,
       "setup": "",
       "teardown": "",
       "type": "doctest"
      }
     ]
    }
   }
  }
 },
 "nbformat": 4,
 "nbformat_minor": 5
}
