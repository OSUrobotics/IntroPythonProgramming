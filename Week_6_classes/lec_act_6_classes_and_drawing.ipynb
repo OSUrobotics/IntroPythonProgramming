{
 "cells": [
  {
   "cell_type": "code",
   "execution_count": null,
   "id": "f40629fe",
   "metadata": {
    "deletable": false,
    "editable": false
   },
   "outputs": [],
   "source": [
    "# Initialize Otter\n",
    "import otter\n",
    "grader = otter.Notebook(\"lec_act_6_classes_and_drawing.ipynb\")"
   ]
  },
  {
   "cell_type": "markdown",
   "id": "f5a23e14",
   "metadata": {},
   "source": [
    "# Classes and drawing\n",
    "\n",
    "Slides for the lecture activity and lab: https://docs.google.com/presentation/d/1N7vEXDZVZikuHGMLDHB3lX1q4pSNJdKxboy5Sto-Dl0/edit?usp=sharing \n",
    "\n",
    "In prior assignments, we packaged up data into dictionaries, and passed them into function. But dealing with dictionaries can be cumbersome:\n",
    "\n",
    "* Accessing an item in a dictionary involves a lot of typing; you need to type `dict[\"name_of_item\"]`.\n",
    "* It can be hard to remember what keys are available in the dictionary, and what they are named.\n",
    "* There is no direct relationship between dictionaries and the functions that accept them; you have to remember which functions accept which dictionaries, and what keys they need.\n",
    "\n",
    "Python (along with other \"object-oriented\" programming languages) have a special way to specify a collection of data along with related functions: _classes_. Like with a dictionary, classes contain named items. But classes also contain named _functions_ that operate on those items.\n",
    "\n",
    "* With a dictionary, you access property `h_u` as `dict[\"h_u\"]`. With classes, you access property `h_u` as `obj.h_u`, which is far easier to type.\n",
    "* With a dictionary, you can pass the dictionary to a function via `my_function(dict)`. With classes, you can define `my_function` as part of the class, and call `obj.my_function()`. `my_function` receives `obj` as its first parameter, and can access all of its properties.\n",
    "\n",
    "In this lecture activity, we will explore classes with a simple example, which will help you work with classes during the lab and homework assignment. Then, we will draw a part of the quarter car that is needed for Lab 6.\n"
   ]
  },
  {
   "cell_type": "code",
   "execution_count": null,
   "id": "2fc70beb",
   "metadata": {},
   "outputs": [],
   "source": [
    "# The usual imports\n",
    "import numpy as np\n",
    "import matplotlib.pyplot as plt\n",
    "import matplotlib.animation as animation\n",
    "# Enable animations to work\n",
    "%matplotlib widget"
   ]
  },
  {
   "cell_type": "markdown",
   "id": "464ed8c4",
   "metadata": {
    "deletable": false,
    "editable": false
   },
   "source": [
    "## `Animal` class\n",
    "\n",
    "Below, we've defined an `Animal` class. You can see how we use it to make `Animal`s, and how it has functions that can be called \"on\" an animal."
   ]
  },
  {
   "cell_type": "code",
   "execution_count": null,
   "id": "afe41ef1",
   "metadata": {
    "tags": [
     "otter_answer_cell"
    ]
   },
   "outputs": [],
   "source": [
    "class Animal:\n",
    "    def __init__(self, name, sound, weight):\n",
    "        \"\"\"\n",
    "        Creates a new animal with name `name`, sound `sound`, and weight `weight`. This special method is called a _constructor_ because it contains the logic needed to construct a new `Animal`.\n",
    "        @param self - The special 'self' variable refers to one specific animal. You will see 'self' as the first argument to all of the methods on Animal\n",
    "        @param name - The name of the animal\n",
    "        @param sound - The sound the animal makes\n",
    "        @param weight - The weight of the animal in kg.\n",
    "        \"\"\"\n",
    "        self.name = name\n",
    "        self.sound = sound\n",
    "        self.weight = weight\n",
    "\n",
    "    def make_sound(self):\n",
    "        \"\"\"\n",
    "        Causes the animal to make a sound.\n",
    "        @param self - The current animal.\n",
    "        \"\"\"\n",
    "        return f\"{self.name} says '{self.sound}'\"\n",
    "    \n",
    "    def say_hi(self, other_animal):\n",
    "        \"\"\"\n",
    "        TODO: Make the animal say hi to the other animal! (\"dog says hi to cat\")\n",
    "        \"\"\"\n",
    "        ...\n",
    "    \n",
    "# Make a dog and a cat\n",
    "dog = Animal(name=\"dog\", sound=\"bark\", weight=30.0)\n",
    "cat = Animal(name=\"cat\", sound=\"meow\", weight=4.5)\n",
    "\n",
    "# Read the dog's name.\n",
    "print(dog.name)\n",
    "# Call make_sound() on the dog.\n",
    "print(dog.make_sound())\n",
    "print(cat.name)\n",
    "print(cat.make_sound())\n",
    "\n",
    "# You can pass _other_ arguments to functions defined on classes, too!\n",
    "print(dog.say_hi(cat))"
   ]
  },
  {
   "cell_type": "code",
   "execution_count": null,
   "id": "e87168fe",
   "metadata": {
    "deletable": false,
    "editable": false
   },
   "outputs": [],
   "source": [
    "grader.check(\"animal_classes\")"
   ]
  },
  {
   "cell_type": "markdown",
   "id": "13a3493e",
   "metadata": {
    "deletable": false,
    "editable": false
   },
   "source": [
    "## Van transportation\n",
    "\n",
    "Imagine you operate a pet transport company, but your van can only handle so many kilograms of animals. You need to calculate their combined weight.\n",
    "\n",
    "Also, some animals need to be transported in cages, while others can roam free, so we need to take the weight of the cages in consideration as well.\n",
    "\n",
    "Let's use classes to represent these animals, and write a function to calculate their combined weight."
   ]
  },
  {
   "cell_type": "code",
   "execution_count": null,
   "id": "64c97db8",
   "metadata": {
    "tags": [
     "otter_answer_cell"
    ]
   },
   "outputs": [],
   "source": [
    "class Cage:\n",
    "    def __init__(self, animal, cage_weight):\n",
    "        # TODO: Assign animal and cage_weight to properties on self.\n",
    "        # TODO: Assign the sum of the animal's weight and cage_weight to self.weight.\n",
    "        ..."
   ]
  },
  {
   "cell_type": "code",
   "execution_count": null,
   "id": "5380cdcf",
   "metadata": {
    "tags": [
     "otter_answer_cell"
    ]
   },
   "outputs": [],
   "source": [
    "def calculate_weight(items):\n",
    "    # TODO: Add up the combined weight() of the items. Although some items are Animals and some are Cages,\n",
    "    # they all have a weight() function!\n",
    "    ..."
   ]
  },
  {
   "cell_type": "code",
   "execution_count": null,
   "id": "fdaf5d8a",
   "metadata": {
    "tags": [
     "otter_answer_cell"
    ]
   },
   "outputs": [],
   "source": [
    "caged_cat = Cage(cat, 3)\n",
    "caged_dog = Cage(dog, 10)\n",
    "\n",
    "assert np.isclose(calculate_weight([cat, dog, caged_cat, caged_dog]), 82.0)"
   ]
  },
  {
   "cell_type": "code",
   "execution_count": null,
   "id": "5522667e",
   "metadata": {
    "deletable": false,
    "editable": false
   },
   "outputs": [],
   "source": [
    "grader.check(\"new_classes\")"
   ]
  },
  {
   "cell_type": "markdown",
   "id": "1ce04a44",
   "metadata": {
    "deletable": false,
    "editable": false
   },
   "source": [
    "# Draw a spring\n",
    "\n",
    "Shifting gears a bit (pun partially intended), the lab involves using classes to draw a quarter car at rest, and then using that to animate the quarter car driving down a road. \n",
    "\n",
    "In this lecture activity, we will start by drawing the spring, which is the most interesting part to draw."
   ]
  },
  {
   "cell_type": "code",
   "execution_count": null,
   "id": "852a0917",
   "metadata": {
    "tags": [
     "otter_answer_cell"
    ]
   },
   "outputs": [],
   "source": [
    "fig, axs = plt.subplots()\n",
    "\n",
    "# A spring of diameter/width 4 wavers between +2 and -2 on the x axis.\n",
    "# We draw it with three \"coils\" and a straight rod on each end (the [0, 0]).\n",
    "spring_X = np.array([0, 0, 2, -2, 2, -2, 2, -2, 0, 0])\n",
    "# The spring splits its height between the rods on either end and the three coils in the center.\n",
    "# In this example, the rods have height 1, and the three coils are of height 8 total.\n",
    "spring_Y = np.array([0, 1, 1, 1 + 8/3, 1 + 8/3, 1 + 2*8/3, 1 + 2*8/3, 1 + 3*8/3, 1 + 3*8/3, 1 + 3*8/3 + 1])\n",
    "\n",
    "# 'k' is a format string that tells matplotlib to plot this in black.\n",
    "axs.plot(spring_X, spring_Y, 'k')\n",
    "\n",
    "plt.show()"
   ]
  },
  {
   "cell_type": "code",
   "execution_count": null,
   "id": "4fcadf68",
   "metadata": {
    "tags": [
     "otter_answer_cell"
    ]
   },
   "outputs": [],
   "source": [
    "def draw_spring(axs, width, height, x=0, y=0):\n",
    "    \"\"\"\n",
    "    Draws a spring, starting at x and y, with the given width and height.\n",
    "    The spring ends in two rods that are each 5% of the total height, and the middle contains\n",
    "    three coils.\n",
    "\n",
    "    You can ignore x and y for the first part of the problem.\n",
    "    \"\"\"\n",
    "    ..."
   ]
  },
  {
   "cell_type": "code",
   "execution_count": null,
   "id": "6455c2ad",
   "metadata": {
    "tags": [
     "otter_answer_cell"
    ]
   },
   "outputs": [],
   "source": [
    "# Check code - draw a tall spring\n",
    "fig_tall, axs_tall = plt.subplots()\n",
    "axs_tall.set_xlim([-5, 5])\n",
    "axs_tall.set_ylim([0, 10])\n",
    "draw_spring(axs=axs_tall, width=1, height=10)\n",
    "plt.show()"
   ]
  },
  {
   "cell_type": "code",
   "execution_count": null,
   "id": "29b72c6e",
   "metadata": {
    "deletable": false,
    "editable": false
   },
   "outputs": [],
   "source": [
    "grader.check(\"draw_spring\")"
   ]
  },
  {
   "cell_type": "markdown",
   "id": "0eb2cad0",
   "metadata": {
    "deletable": false,
    "editable": false
   },
   "source": [
    "Now, we want to be able to draw the spring at a particular x and y location on the graph. This will be important for drawing both springs in our diagram. Modify the function above to translate the X and Y coordinates by `x` and `y`, then run the code below to plot a nice collection of springs."
   ]
  },
  {
   "cell_type": "code",
   "execution_count": null,
   "id": "52700fd1",
   "metadata": {
    "tags": [
     "otter_answer_cell"
    ]
   },
   "outputs": [],
   "source": [
    "# Check code: Draw three springs of varying sizes at different offsets\n",
    "fig_manysprings, axs_manysprings = plt.subplots()\n",
    "axs_manysprings.set_xlim([-5, 5])\n",
    "axs_manysprings.set_ylim([0, 10])\n",
    "draw_spring(axs=axs_manysprings, width=1, height=10)\n",
    "draw_spring(axs=axs_manysprings, width=2, height=4, x=3, y=1)\n",
    "draw_spring(axs=axs_manysprings, width=0.5, height=1, x=-4, y=4)\n",
    "plt.show()"
   ]
  },
  {
   "cell_type": "code",
   "execution_count": null,
   "id": "eac5f936",
   "metadata": {
    "tags": [
     "otter_answer_cell"
    ]
   },
   "outputs": [],
   "source": [
    "# Enable animations to work\n",
    "%matplotlib widget"
   ]
  },
  {
   "cell_type": "code",
   "execution_count": null,
   "id": "862a1209",
   "metadata": {
    "tags": [
     "otter_answer_cell"
    ]
   },
   "outputs": [],
   "source": [
    "# Make a spring of width 3 compress from 10 to 3 over 30 frames in an unrealistically linear fashion.\n",
    "spring_height = np.linspace(10, 3, 30)\n",
    "fig_animation, axs_animation = plt.subplots()\n",
    "def draw_spring_frame(spring_height):\n",
    "    # Clear the plot\n",
    "    axs_animation.clear()\n",
    "    # Ensure plot is 10 high.\n",
    "    axs_animation.set_ylim(0, 10)\n",
    "    axs_animation.set_xlim(-5, 5)\n",
    "    draw_spring(axs=axs_animation, width=3, height=spring_height)\n",
    "\n",
    "# We disable repeats for animations because the animation will repeat forever, which can cause issues when re-running a cell.\n",
    "spring_anim = animation.FuncAnimation(fig_animation, draw_spring_frame, frames=spring_height, interval=1/30 * 1000, repeat=False)\n",
    "plt.show()"
   ]
  },
  {
   "cell_type": "code",
   "execution_count": null,
   "id": "1082fbfb",
   "metadata": {
    "deletable": false,
    "editable": false
   },
   "outputs": [],
   "source": [
    "grader.check(\"draw_spring_offsets\")"
   ]
  },
  {
   "cell_type": "markdown",
   "id": "d0e784a4",
   "metadata": {
    "deletable": false,
    "editable": false
   },
   "source": [
    "## Hours and collaborators\n",
    "Required for every assignment - fill out before you hand-in.\n",
    "\n",
    "Listing names and websites helps you to document who you worked with and what internet help you received in the case of any plagiarism issues. You should list names of anyone (in class or not) who has substantially helped you with an assignment - or anyone you have *helped*. You do not need to list TAs.\n",
    "\n",
    "Listing hours helps us track if the assignments are too long."
   ]
  },
  {
   "cell_type": "code",
   "execution_count": null,
   "id": "abb1227c",
   "metadata": {
    "tags": [
     "otter_answer_cell"
    ]
   },
   "outputs": [],
   "source": [
    "\n",
    "# List of names (creates a set)\n",
    "worked_with_names = {\"not filled out\"}\n",
    "# List of URLS F25(creates a set)\n",
    "websites = {\"not filled out\"}\n",
    "# Approximate number of hours, including lab/in-class time\n",
    "hours = -1.5"
   ]
  },
  {
   "cell_type": "code",
   "execution_count": null,
   "id": "787a16db",
   "metadata": {
    "deletable": false,
    "editable": false
   },
   "outputs": [],
   "source": [
    "grader.check(\"hours_collaborators\")"
   ]
  },
  {
   "cell_type": "markdown",
   "id": "436aedb8",
   "metadata": {},
   "source": [
    "### To submit\n",
    "\n",
    "Double check your plots. \n",
    "\n",
    "- Submit this .ipynb file to lecture activity 6 (classes and drawing)\n",
    "\n",
    "Failures: None expected"
   ]
  }
 ],
 "metadata": {
  "kernelspec": {
   "display_name": "base",
   "language": "python",
   "name": "python3"
  },
  "language_info": {
   "codemirror_mode": {
    "name": "ipython",
    "version": 3
   },
   "file_extension": ".py",
   "mimetype": "text/x-python",
   "name": "python",
   "nbconvert_exporter": "python",
   "pygments_lexer": "ipython3",
   "version": "3.11.5"
  },
  "otter": {
   "OK_FORMAT": true,
   "tests": {
    "animal_classes": {
     "name": "animal_classes",
     "points": 1,
     "suites": [
      {
       "cases": [
        {
         "code": ">>> assert Animal(name='worm', sound='', weight=0.1).say_hi(Animal(name='bird', sound='chirp', weight=0.3)) == 'worm says hi to bird'\n",
         "hidden": false,
         "locked": false
        }
       ],
       "scored": true,
       "setup": "",
       "teardown": "",
       "type": "doctest"
      }
     ]
    },
    "draw_spring": {
     "name": "draw_spring",
     "points": 2,
     "suites": [
      {
       "cases": [
        {
         "code": ">>> assert len(axs_tall.lines) == 1\n",
         "hidden": false,
         "locked": false
        },
        {
         "code": ">>> assert np.isclose(np.array([0, 0, 0.5, -0.5, 0.5, -0.5, 0.5, -0.5, 0, 0]), axs_tall.lines[0].get_xdata()).all()\n",
         "hidden": false,
         "locked": false
        },
        {
         "code": ">>> assert np.isclose(np.array([0, 0.5, 0.5, 3.5, 3.5, 6.5, 6.5, 9.5, 9.5, 10]), axs_tall.lines[0].get_ydata()).all()\n",
         "hidden": false,
         "locked": false
        }
       ],
       "scored": true,
       "setup": "",
       "teardown": "",
       "type": "doctest"
      }
     ]
    },
    "draw_spring_offsets": {
     "name": "draw_spring_offsets",
     "points": 1,
     "suites": [
      {
       "cases": [
        {
         "code": ">>> assert len(axs_manysprings.lines) == 3\n",
         "hidden": false,
         "locked": false
        },
        {
         "code": ">>> assert np.isclose(np.array([3, 3, 4, 2, 4, 2, 4, 2, 3, 3]), axs_manysprings.lines[1].get_xdata()).all()\n",
         "hidden": false,
         "locked": false
        },
        {
         "code": ">>> assert np.isclose(np.array([1, 1.2, 1.2, 2.4, 2.4, 3.6, 3.6, 4.8, 4.8, 5]), axs_manysprings.lines[1].get_ydata()).all()\n",
         "hidden": false,
         "locked": false
        }
       ],
       "scored": true,
       "setup": "",
       "teardown": "",
       "type": "doctest"
      }
     ]
    },
    "hours_collaborators": {
     "name": "hours_collaborators",
     "points": 1,
     "suites": [
      {
       "cases": [
        {
         "code": ">>> assert not 'not filled out' in worked_with_names\n",
         "hidden": false,
         "locked": false
        },
        {
         "code": ">>> assert not 'not filled out' in websites\n",
         "hidden": false,
         "locked": false
        },
        {
         "code": ">>> assert hours > 0\n",
         "hidden": false,
         "locked": false
        }
       ],
       "scored": true,
       "setup": "",
       "teardown": "",
       "type": "doctest"
      }
     ]
    },
    "new_classes": {
     "name": "new_classes",
     "points": 1,
     "suites": [
      {
       "cases": [
        {
         "code": ">>> assert np.isclose(calculate_weight([cat, dog, caged_cat, caged_dog]), 82.0)\n",
         "hidden": false,
         "locked": false
        }
       ],
       "scored": true,
       "setup": "",
       "teardown": "",
       "type": "doctest"
      }
     ]
    }
   }
  }
 },
 "nbformat": 4,
 "nbformat_minor": 5
}
