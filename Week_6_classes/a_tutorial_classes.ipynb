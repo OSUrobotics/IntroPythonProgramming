{
 "cells": [
  {
   "cell_type": "markdown",
   "metadata": {},
   "source": [
    "# Class Example \n",
    "\n",
    "Classes encapsulate data plus functions; instead of having data passed into the functions, the class stores the data. The functions are \"inside\" the class, and have access to that data. As with using functions instead of just writing all the code in one big long piece, classes help with making code clearer, easier to read, and testable in pieces.\n",
    "\n",
    "Covering the full functionality of Python classes would take a long time; we focus here on the most common usage of classes, which is this encapsulation. Learning about the syntax of how classes are structured will also help you use classes other people have defined.\n",
    "\n",
    "In this example we create a class for the walls (completed in lecture activity), which encapsulates a definition of a wall (eg, a vertical wall at x = 0.3), and the methods we defined to handle walls (is the point on the inside of the wall? Plotting a wall. Reflecting a ball that has passed through the wall."
   ]
  },
  {
   "cell_type": "markdown",
   "metadata": {},
   "source": [
    "## Syntax\n",
    "\n",
    "To declare a class, you just do\n",
    "\n",
    "```python\n",
    "class Classname:\n",
    "```\n",
    "\n",
    "and everything that is indented after that belongs to the class\n",
    "\n",
    "You'll see **self.** - this is how you access the data and the methods in the class from within the methods.\n",
    "\n",
    "You create variables for the class by doing **self.variablename = 3.0**, just like a regular variable.\n",
    "\n",
    "You create functions that belong to the class the same as a regular function, except the first parameter is \"self\""
   ]
  },
  {
   "cell_type": "code",
   "execution_count": 13,
   "metadata": {},
   "outputs": [],
   "source": [
    "import numpy as np"
   ]
  },
  {
   "cell_type": "code",
   "execution_count": 38,
   "metadata": {},
   "outputs": [],
   "source": [
    "class Car:\n",
    "    def __init__(self, make, model, color):\n",
    "        self.make = make\n",
    "        self.model = model\n",
    "        self.color = color\n",
    "\n",
    "    def honk(self):\n",
    "        return f\"{self.model} goes beep beep\"\n",
    "\n",
    "    def __str__(self):\n",
    "        \"\"\"\n",
    "        Called when converting this class into a string, e.g. in format strings.\n",
    "        \"\"\"\n",
    "        return f\"{self.color} {self.make} {self.model}\"\n",
    "\n",
    "color = \"red\"\n",
    "beetle = Car(make=\"Volkswagon\", model=\"Beetle\", color=\"yellow\")\n",
    "\n"
   ]
  },
  {
   "cell_type": "code",
   "execution_count": 35,
   "metadata": {},
   "outputs": [
    {
     "name": "stdout",
     "output_type": "stream",
     "text": [
      "The car is a yellow Volkswagon Beetle\n",
      "Top-level color variable: red\n"
     ]
    }
   ],
   "source": [
    "print(f\"The car is a {beetle.color} {beetle.make} {beetle.model}\")\n",
    "print(f\"Top-level color variable: {color}\")"
   ]
  },
  {
   "cell_type": "markdown",
   "metadata": {},
   "source": [
    "Now create two instances of the class. Notice that we do NOT pass in a self variable."
   ]
  },
  {
   "cell_type": "code",
   "execution_count": 36,
   "metadata": {},
   "outputs": [],
   "source": [
    "# Format is: variable_name = class_name(parameters to __init__)\n",
    "#. - this calls init - you don't call it directly\n",
    "\n",
    "# TODO\n",
    "my_car_1 = ...\n",
    "my_car_2 = ..."
   ]
  },
  {
   "cell_type": "markdown",
   "metadata": {},
   "source": [
    "Print them both - this will call the string __str__ function - this is another example of a method that is \n",
    "not directly called, but is called for you when you Python wants to convert the class to a string.\n",
    "You can actually call **instance.__str__()** - it will do the same thing"
   ]
  },
  {
   "cell_type": "code",
   "execution_count": 37,
   "metadata": {},
   "outputs": [
    {
     "name": "stdout",
     "output_type": "stream",
     "text": [
      "Beetle: yellow Volkswagon Beetle\n",
      "color at the top level red, color in the class yellow\n"
     ]
    },
    {
     "ename": "AttributeError",
     "evalue": "'ellipsis' object has no attribute 'color'",
     "output_type": "error",
     "traceback": [
      "\u001b[0;31m---------------------------------------------------------------------------\u001b[0m",
      "\u001b[0;31mAttributeError\u001b[0m                            Traceback (most recent call last)",
      "Cell \u001b[0;32mIn[37], line 3\u001b[0m\n\u001b[1;32m      1\u001b[0m \u001b[38;5;28mprint\u001b[39m(\u001b[38;5;124mf\u001b[39m\u001b[38;5;124m\"\u001b[39m\u001b[38;5;124mBeetle: \u001b[39m\u001b[38;5;132;01m{\u001b[39;00mbeetle\u001b[38;5;132;01m}\u001b[39;00m\u001b[38;5;124m\"\u001b[39m)\n\u001b[1;32m      2\u001b[0m \u001b[38;5;28mprint\u001b[39m(\u001b[38;5;124mf\u001b[39m\u001b[38;5;124m\"\u001b[39m\u001b[38;5;124mcolor at the top level \u001b[39m\u001b[38;5;132;01m{\u001b[39;00mcolor\u001b[38;5;132;01m}\u001b[39;00m\u001b[38;5;124m, color in the class \u001b[39m\u001b[38;5;132;01m{\u001b[39;00mbeetle\u001b[38;5;241m.\u001b[39mcolor\u001b[38;5;132;01m}\u001b[39;00m\u001b[38;5;124m\"\u001b[39m)\n\u001b[0;32m----> 3\u001b[0m \u001b[38;5;28mprint\u001b[39m(\u001b[38;5;124mf\u001b[39m\u001b[38;5;124m\"\u001b[39m\u001b[38;5;124mInstance 1 \u001b[39m\u001b[38;5;132;01m{\u001b[39;00mmy_car_1\u001b[38;5;241m.\u001b[39mcolor\u001b[38;5;132;01m}\u001b[39;00m\u001b[38;5;124m instance 2 \u001b[39m\u001b[38;5;132;01m{\u001b[39;00mmy_car_2\u001b[38;5;241m.\u001b[39mcolor\u001b[38;5;132;01m}\u001b[39;00m\u001b[38;5;124m\"\u001b[39m)\n",
      "\u001b[0;31mAttributeError\u001b[0m: 'ellipsis' object has no attribute 'color'"
     ]
    }
   ],
   "source": [
    "print(f\"Beetle: {beetle}\")\n",
    "print(f\"color at the top level {color}, color in the class {beetle.color}\")\n",
    "print(f\"Instance 1 {my_car_1.color} instance 2 {my_car_2.color}\")"
   ]
  },
  {
   "cell_type": "markdown",
   "metadata": {},
   "source": [
    "Now we'll try calling one of the methods in the class directly to see what happens:"
   ]
  },
  {
   "cell_type": "code",
   "execution_count": 41,
   "metadata": {},
   "outputs": [
    {
     "ename": "TypeError",
     "evalue": "Car.honk() missing 1 required positional argument: 'self'",
     "output_type": "error",
     "traceback": [
      "\u001b[0;31m---------------------------------------------------------------------------\u001b[0m",
      "\u001b[0;31mTypeError\u001b[0m                                 Traceback (most recent call last)",
      "Cell \u001b[0;32mIn[41], line 1\u001b[0m\n\u001b[0;32m----> 1\u001b[0m horn_sound \u001b[38;5;241m=\u001b[39m Car\u001b[38;5;241m.\u001b[39mhonk()\n",
      "\u001b[0;31mTypeError\u001b[0m: Car.honk() missing 1 required positional argument: 'self'"
     ]
    }
   ],
   "source": [
    "horn_sound = Car.honk()"
   ]
  },
  {
   "cell_type": "markdown",
   "metadata": {},
   "source": [
    "This doesn't work because you need an instance of the class - i.e., the self pointer.\n",
    "\n",
    "We can pass `self` explicitly, but it's less convenient than just calling the method on the `beetle` object itself:"
   ]
  },
  {
   "cell_type": "code",
   "execution_count": 42,
   "metadata": {},
   "outputs": [
    {
     "name": "stdout",
     "output_type": "stream",
     "text": [
      "Beetle goes beep beep\n",
      "Beetle goes beep beep\n"
     ]
    }
   ],
   "source": [
    "# These do the same thing\n",
    "print(Car.honk(beetle))\n",
    "print(beetle.honk())"
   ]
  },
  {
   "cell_type": "markdown",
   "metadata": {},
   "source": [
    "# Forgetting the self pointer in a method\n",
    "\n",
    "Note that when you execute the next cell you don't get any errors - because Python just stores what you wrote, it doesn't actually execute it"
   ]
  },
  {
   "cell_type": "code",
   "execution_count": 32,
   "metadata": {},
   "outputs": [],
   "source": [
    "class Oops:\n",
    "    def __init__(self):\n",
    "        var_disappears = 3.0\n",
    "        self.var_stays = 4.0\n",
    "        \n",
    "    def oops1(self):\n",
    "        # Most common error - forget to use the self in front of it\n",
    "        return var_stays + 10\n",
    "    \n",
    "    def oops2(self):\n",
    "        # More subtle error - you thought you made the variable, but you didn't \"save\" it in the class with\n",
    "        #. the self. \n",
    "        return var_disappears * 3.0\n",
    "    \n",
    "    def oops3(self):\n",
    "        # Forgetting the self pointer again - oops2 does not exist\n",
    "        return oops2()"
   ]
  },
  {
   "cell_type": "code",
   "execution_count": 33,
   "metadata": {},
   "outputs": [
    {
     "name": "stdout",
     "output_type": "stream",
     "text": [
      "My ooops <__main__.Oops object at 0x113563890>\n"
     ]
    }
   ],
   "source": [
    "# Now we'll create an instance of Oops\n",
    "\n",
    "my_oops = Oops()  # This doesn't fail because everything we did in __init__ was valid\n",
    "# Notices we didn't do a __str__ method, so this is an ugly print\n",
    "print(f\"My ooops {my_oops}\")"
   ]
  },
  {
   "cell_type": "code",
   "execution_count": 43,
   "metadata": {},
   "outputs": [
    {
     "ename": "NameError",
     "evalue": "name 'var_stays' is not defined",
     "output_type": "error",
     "traceback": [
      "\u001b[0;31m---------------------------------------------------------------------------\u001b[0m",
      "\u001b[0;31mNameError\u001b[0m                                 Traceback (most recent call last)",
      "Cell \u001b[0;32mIn[43], line 3\u001b[0m\n\u001b[1;32m      1\u001b[0m \u001b[38;5;66;03m# Now cause an error - var_stays doesn't exist in the method. Fix it by putting self. in front of var_stays in\u001b[39;00m\n\u001b[1;32m      2\u001b[0m \u001b[38;5;66;03m#. oops 1\u001b[39;00m\n\u001b[0;32m----> 3\u001b[0m my_oops\u001b[38;5;241m.\u001b[39moops1()\n",
      "Cell \u001b[0;32mIn[32], line 8\u001b[0m, in \u001b[0;36mOops.oops1\u001b[0;34m(self)\u001b[0m\n\u001b[1;32m      6\u001b[0m \u001b[38;5;28;01mdef\u001b[39;00m \u001b[38;5;21moops1\u001b[39m(\u001b[38;5;28mself\u001b[39m):\n\u001b[1;32m      7\u001b[0m     \u001b[38;5;66;03m# Most common error - forget to use the self in front of it\u001b[39;00m\n\u001b[0;32m----> 8\u001b[0m     \u001b[38;5;28;01mreturn\u001b[39;00m var_stays \u001b[38;5;241m+\u001b[39m \u001b[38;5;241m10\u001b[39m\n",
      "\u001b[0;31mNameError\u001b[0m: name 'var_stays' is not defined"
     ]
    }
   ],
   "source": [
    "# Now cause an error - var_stays doesn't exist in the method. Fix it by putting self. in front of var_stays in\n",
    "#. oops 1\n",
    "my_oops.oops1()\n",
    "\n",
    "\n",
    "# Don't forget to re-execute the class cell if you fix it"
   ]
  },
  {
   "cell_type": "code",
   "execution_count": 44,
   "metadata": {},
   "outputs": [
    {
     "ename": "NameError",
     "evalue": "name 'var_disappears' is not defined",
     "output_type": "error",
     "traceback": [
      "\u001b[0;31m---------------------------------------------------------------------------\u001b[0m",
      "\u001b[0;31mNameError\u001b[0m                                 Traceback (most recent call last)",
      "Cell \u001b[0;32mIn[44], line 2\u001b[0m\n\u001b[1;32m      1\u001b[0m \u001b[38;5;66;03m# Make it break again.. this one you fix by putting self. in front of var_disappears in the __init__ method\u001b[39;00m\n\u001b[0;32m----> 2\u001b[0m my_oops\u001b[38;5;241m.\u001b[39moops2()\n",
      "Cell \u001b[0;32mIn[32], line 13\u001b[0m, in \u001b[0;36mOops.oops2\u001b[0;34m(self)\u001b[0m\n\u001b[1;32m     10\u001b[0m \u001b[38;5;28;01mdef\u001b[39;00m \u001b[38;5;21moops2\u001b[39m(\u001b[38;5;28mself\u001b[39m):\n\u001b[1;32m     11\u001b[0m     \u001b[38;5;66;03m# More subtle error - you thought you made the variable, but you didn't \"save\" it in the class with\u001b[39;00m\n\u001b[1;32m     12\u001b[0m     \u001b[38;5;66;03m#. the self. \u001b[39;00m\n\u001b[0;32m---> 13\u001b[0m     \u001b[38;5;28;01mreturn\u001b[39;00m var_disappears \u001b[38;5;241m*\u001b[39m \u001b[38;5;241m3.0\u001b[39m\n",
      "\u001b[0;31mNameError\u001b[0m: name 'var_disappears' is not defined"
     ]
    }
   ],
   "source": [
    "# Make it break again.. this one you fix by putting self. in front of var_disappears in the __init__ method\n",
    "my_oops.oops2()\n",
    "\n",
    "# Don't forget to re-execute the class cell if you fix it"
   ]
  },
  {
   "cell_type": "code",
   "execution_count": 45,
   "metadata": {},
   "outputs": [
    {
     "ename": "NameError",
     "evalue": "name 'oops2' is not defined",
     "output_type": "error",
     "traceback": [
      "\u001b[0;31m---------------------------------------------------------------------------\u001b[0m",
      "\u001b[0;31mNameError\u001b[0m                                 Traceback (most recent call last)",
      "Cell \u001b[0;32mIn[45], line 2\u001b[0m\n\u001b[1;32m      1\u001b[0m \u001b[38;5;66;03m# Ka boom - figure out where you need to put the self. to fix this \u001b[39;00m\n\u001b[0;32m----> 2\u001b[0m my_oops\u001b[38;5;241m.\u001b[39moops3()\n",
      "Cell \u001b[0;32mIn[32], line 17\u001b[0m, in \u001b[0;36mOops.oops3\u001b[0;34m(self)\u001b[0m\n\u001b[1;32m     15\u001b[0m \u001b[38;5;28;01mdef\u001b[39;00m \u001b[38;5;21moops3\u001b[39m(\u001b[38;5;28mself\u001b[39m):\n\u001b[1;32m     16\u001b[0m     \u001b[38;5;66;03m# Forgetting the self pointer again - oops2 does not exist\u001b[39;00m\n\u001b[0;32m---> 17\u001b[0m     \u001b[38;5;28;01mreturn\u001b[39;00m oops2()\n",
      "\u001b[0;31mNameError\u001b[0m: name 'oops2' is not defined"
     ]
    }
   ],
   "source": [
    "# Ka boom - figure out where you need to put the self. to fix this \n",
    "my_oops.oops3()"
   ]
  }
 ],
 "metadata": {
  "kernelspec": {
   "display_name": "base",
   "language": "python",
   "name": "python3"
  },
  "language_info": {
   "codemirror_mode": {
    "name": "ipython",
    "version": 3
   },
   "file_extension": ".py",
   "mimetype": "text/x-python",
   "name": "python",
   "nbconvert_exporter": "python",
   "pygments_lexer": "ipython3",
   "version": "3.11.5"
  }
 },
 "nbformat": 4,
 "nbformat_minor": 2
}
