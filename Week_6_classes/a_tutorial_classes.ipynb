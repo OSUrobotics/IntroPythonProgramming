{
 "cells": [
  {
   "cell_type": "markdown",
   "metadata": {},
   "source": [
    "# Class Example \n",
    "\n",
    "Classes encapsulate data plus functions; instead of having data passed into the functions, the class stores the data. The functions are \"inside\" the class, and have access to that data. As with using functions instead of just writing all the code in one big long piece, classes help with making code clearer, easier to read, and testable in pieces.\n",
    "\n",
    "Covering the full functionality of Python classes would take a long time; we focus here on the most common usage of classes, which is this encapsulation. Learning about the syntax of how classes are structured will also help you use classes other people have defined.\n",
    "\n",
    "In this example we create a class for the walls (completed in lecture activity), which encapsulates a definition of a wall (eg, a vertical wall at x = 0.3), and the methods we defined to handle walls (is the point on the inside of the wall? Plotting a wall. Reflecting a ball that has passed through the wall."
   ]
  },
  {
   "cell_type": "markdown",
   "metadata": {},
   "source": [
    "## Syntax: To declare a class, you just do\n",
    "**class Classname:**\n",
    "\n",
    "and everything that is indented after that belongs to the class\n",
    "\n",
    "You'll see **self.** - this is how you access the data and the methods in the class from within the methods.\n",
    "\n",
    "You create variables for the class by doing **self.variablename = 3.0**, just like a regular variable.\n",
    "\n",
    "You create functions that belong to the class the same as a regular function, except the first parameter is \"self\""
   ]
  },
  {
   "cell_type": "code",
   "execution_count": null,
   "metadata": {},
   "outputs": [],
   "source": [
    "import numpy as np"
   ]
  },
  {
   "cell_type": "code",
   "execution_count": null,
   "metadata": {},
   "outputs": [],
   "source": [
    "abc = 10\n",
    "# Add in new class"
   ]
  },
  {
   "cell_type": "code",
   "execution_count": 13,
   "metadata": {},
   "outputs": [
    {
     "name": "stdout",
     "output_type": "stream",
     "text": [
      "abc 10\n"
     ]
    }
   ],
   "source": [
    "print(f\"abc {abc}\")"
   ]
  },
  {
   "cell_type": "markdown",
   "metadata": {},
   "source": [
    "Now create two instances of the class\n",
    "\n",
    "Notice that we do NOT pass in a self variable"
   ]
  },
  {
   "cell_type": "code",
   "execution_count": null,
   "metadata": {},
   "outputs": [],
   "source": [
    "# Format is: variable_name = class_name(parameters to __init__)\n",
    "#. - this calls init - you don't call it directly\n",
    "\n",
    "# TODO"
   ]
  },
  {
   "cell_type": "markdown",
   "metadata": {},
   "source": [
    "Print them both - this will call the string __str__ function - this is another example of a method that is \n",
    "not directly called, but is called for you when you Python wants to convert the class to a string.\n",
    "You can actually call **instance.__str__()** - it will do the same thing"
   ]
  },
  {
   "cell_type": "code",
   "execution_count": null,
   "metadata": {},
   "outputs": [
    {
     "name": "stdout",
     "output_type": "stream",
     "text": [
      "Vertical wall: abc 10 1.000x + 0.000y + -0.200\n",
      "Horizontal wall: abc 10 0.000x + 1.000y + -0.200\n",
      " ABC at the top level 10, abc in the class 15\n",
      "Instance 1 [0.0, 1.0, -0.2] instance 2 [1.0, 0.0, -0.2]\n"
     ]
    }
   ],
   "source": [
    "# TODO\n",
    "#print(f\"Vertical wall: {my_vert_wall}\")\n",
    "print(f\"Horizontal wall: {my_horiz_wall}\")\n",
    "print(f\" ABC at the top level {abc}, abc in the class {PinballWall.abc}\")\n",
    "print(f\"Instance 1 {my_horiz_wall.abc} instance 2 {my_vert_wall.abc}\")"
   ]
  },
  {
   "cell_type": "markdown",
   "metadata": {},
   "source": [
    "Now we'll try calling one of the methods in the class directly\n",
    "\n",
    "# TODO"
   ]
  },
  {
   "cell_type": "code",
   "execution_count": null,
   "metadata": {},
   "outputs": [
    {
     "name": "stdout",
     "output_type": "stream",
     "text": [
      "Vertical wall evaluated at 0.2: 0.0\n"
     ]
    },
    {
     "ename": "NameError",
     "evalue": "name 'np' is not defined",
     "output_type": "error",
     "traceback": [
      "\u001b[0;31m---------------------------------------------------------------------------\u001b[0m",
      "\u001b[0;31mNameError\u001b[0m                                 Traceback (most recent call last)",
      "\u001b[1;32m/Users/grimmc/VSCode/ClassShellCodeSolutions/IntroductoryPythonME203/Week_10_classes/a_tutorial_classes.ipynb Cell 10\u001b[0m line \u001b[0;36m4\n\u001b[1;32m      <a href='vscode-notebook-cell:/Users/grimmc/VSCode/ClassShellCodeSolutions/IntroductoryPythonME203/Week_10_classes/a_tutorial_classes.ipynb#X12sZmlsZQ%3D%3D?line=1'>2</a>\u001b[0m eval_vert_at_line \u001b[39m=\u001b[39m my_vert_wall\u001b[39m.\u001b[39mevaluate_halfplane(x_y\u001b[39m=\u001b[39mx_y)\n\u001b[1;32m      <a href='vscode-notebook-cell:/Users/grimmc/VSCode/ClassShellCodeSolutions/IntroductoryPythonME203/Week_10_classes/a_tutorial_classes.ipynb#X12sZmlsZQ%3D%3D?line=2'>3</a>\u001b[0m \u001b[39mprint\u001b[39m(\u001b[39mf\u001b[39m\u001b[39m\"\u001b[39m\u001b[39mVertical wall evaluated at 0.2: \u001b[39m\u001b[39m{\u001b[39;00meval_vert_at_line\u001b[39m}\u001b[39;00m\u001b[39m\"\u001b[39m)\n\u001b[0;32m----> <a href='vscode-notebook-cell:/Users/grimmc/VSCode/ClassShellCodeSolutions/IntroductoryPythonME203/Week_10_classes/a_tutorial_classes.ipynb#X12sZmlsZQ%3D%3D?line=3'>4</a>\u001b[0m \u001b[39mprint\u001b[39m(\u001b[39mf\u001b[39m\u001b[39m\"\u001b[39m\u001b[39mIs xy \u001b[39m\u001b[39m{\u001b[39;00mx_y\u001b[39m}\u001b[39;00m\u001b[39m on wall: \u001b[39m\u001b[39m{\u001b[39;00mmy_vert_wall\u001b[39m.\u001b[39mtest_on_wall(x_y)\u001b[39m}\u001b[39;00m\u001b[39m\"\u001b[39m)\n",
      "\u001b[1;32m/Users/grimmc/VSCode/ClassShellCodeSolutions/IntroductoryPythonME203/Week_10_classes/a_tutorial_classes.ipynb Cell 10\u001b[0m line \u001b[0;36m7\n\u001b[1;32m     <a href='vscode-notebook-cell:/Users/grimmc/VSCode/ClassShellCodeSolutions/IntroductoryPythonME203/Week_10_classes/a_tutorial_classes.ipynb#X12sZmlsZQ%3D%3D?line=72'>73</a>\u001b[0m \u001b[39mdef\u001b[39;00m \u001b[39mtest_on_wall\u001b[39m(\u001b[39mself\u001b[39m, x_y):\n\u001b[1;32m     <a href='vscode-notebook-cell:/Users/grimmc/VSCode/ClassShellCodeSolutions/IntroductoryPythonME203/Week_10_classes/a_tutorial_classes.ipynb#X12sZmlsZQ%3D%3D?line=73'>74</a>\u001b[0m \u001b[39m    \u001b[39m\u001b[39m\"\"\" Pass in a point that should be on the wall; should return 0\u001b[39;00m\n\u001b[1;32m     <a href='vscode-notebook-cell:/Users/grimmc/VSCode/ClassShellCodeSolutions/IntroductoryPythonME203/Week_10_classes/a_tutorial_classes.ipynb#X12sZmlsZQ%3D%3D?line=74'>75</a>\u001b[0m \u001b[39m     @param x_y - xy point\u001b[39;00m\n\u001b[1;32m     <a href='vscode-notebook-cell:/Users/grimmc/VSCode/ClassShellCodeSolutions/IntroductoryPythonME203/Week_10_classes/a_tutorial_classes.ipynb#X12sZmlsZQ%3D%3D?line=75'>76</a>\u001b[0m \u001b[39m     @preturn True or False\"\"\"\u001b[39;00m\n\u001b[0;32m---> <a href='vscode-notebook-cell:/Users/grimmc/VSCode/ClassShellCodeSolutions/IntroductoryPythonME203/Week_10_classes/a_tutorial_classes.ipynb#X12sZmlsZQ%3D%3D?line=76'>77</a>\u001b[0m     \u001b[39mreturn\u001b[39;00m np\u001b[39m.\u001b[39misclose(\u001b[39mself\u001b[39m\u001b[39m.\u001b[39mevaluate_halfplane(x_y), \u001b[39m0.0\u001b[39m)\n",
      "\u001b[0;31mNameError\u001b[0m: name 'np' is not defined"
     ]
    }
   ],
   "source": [
    "# TODO"
   ]
  },
  {
   "cell_type": "code",
   "execution_count": null,
   "metadata": {},
   "outputs": [],
   "source": [
    "# Check the other test functions\n",
    "# A diagonal wall in the lower right corner\n",
    "my_general_wall = PinballWall(\"General\", a_b_c=[1.0, 1.0, 0.7])\n",
    "# One cool thing with encapsulating code in classes is you can do things like this - this calls origin_inside for\n",
    "#   each instance of the class\n",
    "for w in [my_horiz_wall, my_vert_wall, my_general_wall]:\n",
    "    w.test_origin_inside()"
   ]
  },
  {
   "cell_type": "markdown",
   "metadata": {},
   "source": [
    "## What doesn't work\n",
    "\n",
    "Some things that *don't* work\n",
    "- this doesn't work because you need an instance of the class - i.e., the self pointer\n",
    "- notice that the error is a method not found error - that's because all of the methods in a class have a tag (the name of the class) pre-pended to the method name\n",
    "\n",
    "# TOFIX\n",
    "**NameError: name 'evaluate_halfplane' is not defined**"
   ]
  },
  {
   "cell_type": "code",
   "execution_count": null,
   "metadata": {},
   "outputs": [],
   "source": [
    "# TOFIX\n",
    "# ret_val = evaluate_halfplane(x_y=[10.0, 0.2])"
   ]
  },
  {
   "cell_type": "markdown",
   "metadata": {},
   "source": [
    "This solves the name error - we tell Python that we want the method in the class\n",
    "\n",
    "However, it generates a different error - because it's missing the \"self\" parameter\n",
    "\n",
    "# FIX\n",
    "**TypeError: () missing 1 required positional argument: 'self' **"
   ]
  },
  {
   "cell_type": "code",
   "execution_count": null,
   "metadata": {},
   "outputs": [],
   "source": [
    "# FIX\n",
    "# ret_val = PinballWall.evaluate_halfplane(x_y=[10.0, 0.2])"
   ]
  },
  {
   "cell_type": "markdown",
   "metadata": {},
   "source": [
    "Here we explicitly set the self pointer - you should never do this, it's just here to show you what is happening  under the hood when you do \n",
    "\n",
    "#FIX\n",
    "**my_vert_wall.evaluate_halfplane(x_y=[10.0, 0.2])**"
   ]
  },
  {
   "cell_type": "code",
   "execution_count": null,
   "metadata": {},
   "outputs": [],
   "source": [
    "# FIX\n",
    "ret_val = PinballWall.evaluate_halfplane(self=my_vert_wall, x_y=[10.0, 0.2])"
   ]
  },
  {
   "cell_type": "markdown",
   "metadata": {},
   "source": [
    "# Forgetting the self pointer in a method\n",
    "\n",
    "Note that when you execute the next cell you don't get any errors - because Python just stores what you wrote, it doesn't actually execute it"
   ]
  },
  {
   "cell_type": "code",
   "execution_count": null,
   "metadata": {},
   "outputs": [],
   "source": [
    "class Oops:\n",
    "    def __init__(self):\n",
    "        var_disappears = 3.0\n",
    "        self.var_stays = 4.0\n",
    "        \n",
    "    def oops1(self):\n",
    "        # Most common error - forget to use the self in front of it\n",
    "        return var_stays + 10\n",
    "    \n",
    "    def oops2(self):\n",
    "        # More subtle error - you thought you made the variable, but you didn't \"save\" it in the class with\n",
    "        #. the self. \n",
    "        return var_disappears * 3.0\n",
    "    \n",
    "    def oops3(self):\n",
    "        # Forgetting the self pointer again - oops2 does not exist\n",
    "        return oops2()"
   ]
  },
  {
   "cell_type": "code",
   "execution_count": null,
   "metadata": {},
   "outputs": [],
   "source": [
    "# Now we'll create an instance of Oops\n",
    "\n",
    "my_oops = Oops()  # This doesn't fail because everything we did in __init__ was valid\n",
    "# Notices we didn't do a __str__ method, so this is an ugly print\n",
    "print(f\"My ooops {my_oops}\")"
   ]
  },
  {
   "cell_type": "code",
   "execution_count": null,
   "metadata": {},
   "outputs": [],
   "source": [
    "# Now cause an error - var_stays doesn't exist in the method. Fix it by putting self. in front of var_stays in\n",
    "#. oops 1\n",
    "my_oops.oops1()\n",
    "\n",
    "\n",
    "# Don't forget to re-execute the class cell if you fix it"
   ]
  },
  {
   "cell_type": "code",
   "execution_count": null,
   "metadata": {},
   "outputs": [],
   "source": [
    "# Make it break again.. this one you fix by putting self. in front of var_disappears in the __init__ method\n",
    "my_oops.oops2()\n",
    "\n",
    "# Don't forget to re-execute the class cell if you fix it"
   ]
  },
  {
   "cell_type": "code",
   "execution_count": null,
   "metadata": {},
   "outputs": [],
   "source": [
    "# Ka boom - figure out where you need to put the self. to fix this \n",
    "my_oops.oops3()"
   ]
  },
  {
   "cell_type": "code",
   "execution_count": null,
   "metadata": {},
   "outputs": [],
   "source": []
  }
 ],
 "metadata": {
  "kernelspec": {
   "display_name": "Python 3",
   "language": "python",
   "name": "python3"
  },
  "language_info": {
   "codemirror_mode": {
    "name": "ipython",
    "version": 3
   },
   "file_extension": ".py",
   "mimetype": "text/x-python",
   "name": "python",
   "nbconvert_exporter": "python",
   "pygments_lexer": "ipython3",
   "version": "3.11.4"
  }
 },
 "nbformat": 4,
 "nbformat_minor": 2
}
