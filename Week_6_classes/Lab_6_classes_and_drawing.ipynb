{
 "cells": [
  {
   "cell_type": "code",
   "execution_count": null,
   "id": "eeafcbc8",
   "metadata": {
    "deletable": false,
    "editable": false
   },
   "outputs": [],
   "source": [
    "# Initialize Otter\n",
    "import otter\n",
    "grader = otter.Notebook(\"Lab_6_classes_and_drawing.ipynb\")"
   ]
  },
  {
   "cell_type": "markdown",
   "id": "baddd7c4",
   "metadata": {},
   "source": [
    "# Lab 6: Classes and drawing\n",
    "\n",
    "The goal of this lab is to use classes and matrices to draw and animate a quarter of a car. Whereas a whole car has four tires that are each suspended off of the car body, a quarter car has a single tire suspended off of a car body. \n",
    "\n",
    "See the lecture notes for a diagram of the dynamic model of a quarter car.\n",
    "\n",
    "In the diagram, $m_s$ is the mass of the car body (sprung mass), $m_u$ is the mass of the wheel itself (unsprung mass), $c_s$ is the damping constant of the suspension, $k_s$ is the spring constant of the suspension, and $k_t$ is the spring constant of the tire.\n",
    "\n",
    "Next, see the lecture notes for an image of how we plan to draw a quarter car.\n",
    "\n",
    "In this picture, the red square is the car body, blue square is the wheel mass, the squiggles are the two springs (the suspension above the wheel, and the tire below the wheel), and the cylinder with the plunger-like piston is the suspension's damper. The simulation will vary the positions and, for the springs, sizes of some of these items, so we need a robust way to draw the car in a variety of situations."
   ]
  },
  {
   "cell_type": "code",
   "execution_count": null,
   "id": "e48a28ed",
   "metadata": {},
   "outputs": [],
   "source": [
    "# Imports\n",
    "import numpy as np\n",
    "import matplotlib.pyplot as plt\n",
    "import matplotlib.animation as animation\n",
    "# Enable animations to work\n",
    "%matplotlib widget"
   ]
  },
  {
   "cell_type": "markdown",
   "id": "401189e6",
   "metadata": {
    "deletable": false,
    "editable": false
   },
   "source": [
    "## Part 1: Paste in `draw_spring` function from lecture activity 6\n",
    "\n",
    "We need to draw a quarter car at rest. Start by pasting in your `draw_spring` function from lecture activity 6."
   ]
  },
  {
   "cell_type": "code",
   "execution_count": null,
   "id": "19b4e27f",
   "metadata": {
    "tags": []
   },
   "outputs": [],
   "source": [
    "def draw_spring(axs, width, height, x=0, y=0):\n",
    "    # TODO: Paste in implementation from lecture activity 6.\n",
    "    ..."
   ]
  },
  {
   "cell_type": "code",
   "execution_count": null,
   "id": "f90b7f85",
   "metadata": {
    "tags": []
   },
   "outputs": [],
   "source": [
    "# Check code - draw a tall spring\n",
    "fig_tall, axs_tall = plt.subplots()\n",
    "axs_tall.set_xlim([-5, 5])\n",
    "axs_tall.set_ylim([0, 10])\n",
    "draw_spring(axs=axs_tall, width=1, height=10)\n",
    "plt.show()"
   ]
  },
  {
   "cell_type": "code",
   "execution_count": null,
   "id": "3d34bfd7",
   "metadata": {
    "deletable": false,
    "editable": false
   },
   "outputs": [],
   "source": [
    "grader.check(\"draw_spring\")"
   ]
  },
  {
   "cell_type": "markdown",
   "id": "68cd3d86",
   "metadata": {
    "deletable": false,
    "editable": false
   },
   "source": [
    "## Part 2: Draw a damper\n",
    "\n",
    "The next most interesting thing we need to draw is the damper. In our quarter car, the damper is a U-shaped cylinder with squared corners that has a piston inside. The piston is attached to a rod of a fixed, constant size that is attached to the sprung mass (car body). The bottom of the cylinder has a small fixed-size rod connected to the unsprung mass (wheel). The position of the piston within the cylinder is a function of the y position of the sprung ($y_s$) and unsprung mass ($y_u$); as they move closer together, the piston compresses."
   ]
  },
  {
   "cell_type": "code",
   "execution_count": null,
   "id": "506184f3",
   "metadata": {
    "tags": []
   },
   "outputs": [],
   "source": [
    "fig_damper, axs_damper = plt.subplots()\n",
    "axs_damper.set_xlim([-1, 8])\n",
    "axs_damper.set_ylim([-1, 8])\n",
    "\n",
    "# Location of center of cylinder\n",
    "x = 1\n",
    "# Unsprung mass is at y=1\n",
    "y_u = 1\n",
    "# Sprung mass is at y=6\n",
    "y_s = 6\n",
    "# Height of rod attached to unsprung mass\n",
    "rod_u_height = 1\n",
    "# Height of rod attached to sprung mass.\n",
    "rod_s_height = 3\n",
    "# Cylinder radius (making the cylinder width = 2*radius)\n",
    "cylinder_radius = 1\n",
    "cylinder_height = 3\n",
    "\n",
    "rod_u_X = np.array([x, x])\n",
    "rod_u_Y = np.array([y_u, y_u + rod_u_height])\n",
    "axs_damper.plot(rod_u_X, rod_u_Y, 'k')\n",
    "\n",
    "rod_s_X = np.array([x, x])\n",
    "rod_s_Y = np.array([y_s, y_s - rod_s_height])\n",
    "axs_damper.plot(rod_s_X, rod_s_Y, 'k')\n",
    "\n",
    "# Cylinder of width 2 and height 5, begins just above the unsprung rod.\n",
    "cylinder_X = np.array([-cylinder_radius, -cylinder_radius, cylinder_radius, cylinder_radius]) + x\n",
    "cylinder_Y = np.array([cylinder_height, 0, 0, cylinder_height]) + y_u + rod_u_height\n",
    "axs_damper.plot(cylinder_X, cylinder_Y, 'k')\n",
    "\n",
    "# Make piston 60% of the width of the cylinder, and center it within the cylinder.\n",
    "piston_X = np.array([-0.6*cylinder_radius, 0.6*cylinder_radius]) + x\n",
    "piston_Y = np.array([y_s - rod_s_height, y_s - rod_s_height])\n",
    "axs_damper.plot(piston_X, piston_Y, 'k')\n",
    "\n",
    "\n",
    "plt.show()"
   ]
  },
  {
   "cell_type": "code",
   "execution_count": null,
   "id": "1818c556",
   "metadata": {
    "tags": []
   },
   "outputs": [],
   "source": [
    "def draw_damper(axs, x, y_u, y_s, width, height, rod_u_height, rod_s_height):\n",
    "    \"\"\"\n",
    "    Draw a damper.\n",
    "    @param axs The axs to draw the damper in.\n",
    "    @param x the x coordinate to draw the damper at. the damper should be centered at x.\n",
    "    @param width the width of the damper\n",
    "    @param height the height of the damper.\n",
    "    @param y_u the y coordinate of the unsprung mass,\n",
    "    @param y_s the y coordinate of the sprung mass.\n",
    "    @param rod_u_height the height of the rod stuck in the unsprung mass, and\n",
    "    @param rod_s_height the height of the rod stuck in the sprung mass.\n",
    "    \"\"\"\n",
    "    ..."
   ]
  },
  {
   "cell_type": "code",
   "execution_count": null,
   "id": "682bc8e5",
   "metadata": {
    "tags": []
   },
   "outputs": [],
   "source": [
    "# Check code: Plot two dampers at different locations with different sizes.\n",
    "fig_dampers, axs_dampers = plt.subplots()\n",
    "axs_dampers.set_xlim([-1, 8])\n",
    "axs_dampers.set_ylim([-1, 8])\n",
    "\n",
    "draw_damper(axs_dampers, x=2, y_u=3, y_s=6, width=1, height=2, rod_u_height=0.5, rod_s_height=2)\n",
    "draw_damper(axs_dampers, x=4, y_u=1, y_s=5, width=3, height=2, rod_u_height=0.1, rod_s_height=3)\n",
    "\n",
    "plt.show()"
   ]
  },
  {
   "cell_type": "code",
   "execution_count": null,
   "id": "b6a1a869",
   "metadata": {
    "deletable": false,
    "editable": false
   },
   "outputs": [],
   "source": [
    "grader.check(\"draw_damper\")"
   ]
  },
  {
   "cell_type": "markdown",
   "id": "aaaa263f",
   "metadata": {
    "deletable": false,
    "editable": false
   },
   "source": [
    "## Part 3: Drawing masses\n",
    "\n",
    "Next, we need to draw the square for the sprung mass (car body) and the unsprung masses (the wheels). Numpy has a method for drawing polygons -- `axs.fill`. All we need to do is tell it the four (x,y) points in the polygon."
   ]
  },
  {
   "cell_type": "code",
   "execution_count": null,
   "id": "c370f52b",
   "metadata": {
    "tags": []
   },
   "outputs": [],
   "source": [
    "fig_polygon, axs_polygon = plt.subplots()\n",
    "axs_polygon.set_ylim(0, 10)\n",
    "axs_polygon.set_xlim(0, 10)\n",
    "# Draws a red polygon of width 10 and height 2 centered around x=5 and starting at y=3\n",
    "axs_polygon.fill([0, 10, 10, 0], [3, 3, 5, 5], 'r')\n",
    "plt.show()"
   ]
  },
  {
   "cell_type": "code",
   "execution_count": null,
   "id": "7fe24c29",
   "metadata": {
    "tags": []
   },
   "outputs": [],
   "source": [
    "def draw_rectangle(axs, width, height, x, y, color):\n",
    "    \"\"\"\n",
    "    Draw a rectangle with the given `width` and `height` at the given `x` and `y` coordinates.\n",
    "    The lower-left corner of the rectangle should be at (x, y).\n",
    "    \"\"\"\n",
    "    ..."
   ]
  },
  {
   "cell_type": "code",
   "execution_count": null,
   "id": "89f31b94",
   "metadata": {
    "tags": []
   },
   "outputs": [],
   "source": [
    "# Check code: Draw two rectangles with different colors.\n",
    "fig_polygon2, axs_polygon2 = plt.subplots()\n",
    "axs_polygon2.set_ylim(0, 10)\n",
    "axs_polygon2.set_xlim(0, 10)\n",
    "draw_rectangle(axs_polygon2, width=3, height=1, x=4, y=2, color='k')\n",
    "draw_rectangle(axs_polygon2, width=1, height=4, x=1, y=1, color='r')"
   ]
  },
  {
   "cell_type": "code",
   "execution_count": null,
   "id": "fdf6848b",
   "metadata": {
    "deletable": false,
    "editable": false
   },
   "outputs": [],
   "source": [
    "grader.check(\"draw_masses\")"
   ]
  },
  {
   "cell_type": "markdown",
   "id": "7da1aa8d",
   "metadata": {
    "deletable": false,
    "editable": false
   },
   "source": [
    "## Part 4: Draw tires\n",
    "\n",
    "The final part of our car we need to draw are the tires, which are just circles. We can use a simple matplotlib marker for this purpose."
   ]
  },
  {
   "cell_type": "code",
   "execution_count": null,
   "id": "11518580",
   "metadata": {
    "tags": []
   },
   "outputs": [],
   "source": [
    "fig_tire, axs_tire = plt.subplots()\n",
    "axs_tire.set_ylim(0, 10)\n",
    "axs_tire.set_xlim(0, 10)\n",
    "\n",
    "\n",
    "# Plot a single tire at x=4, y=5.\n",
    "# 'k' = black, 'o' = circle, so 'ko' means 'black circle'\n",
    "tire, = axs_tire.plot(4, 5, 'ko')\n",
    "tire.set_markersize(7)\n",
    "plt.show()"
   ]
  },
  {
   "cell_type": "code",
   "execution_count": null,
   "id": "2cdef2fb",
   "metadata": {
    "tags": []
   },
   "outputs": [],
   "source": [
    "def draw_tire(axs, x, y):\n",
    "    \"\"\"\n",
    "    Draw a tire at (x, y).\n",
    "    \"\"\"\n",
    "    ..."
   ]
  },
  {
   "cell_type": "code",
   "execution_count": null,
   "id": "133428cc",
   "metadata": {
    "tags": []
   },
   "outputs": [],
   "source": [
    "# Check code: Draw two tires at different locations\n",
    "fig_tires, axs_tires = plt.subplots()\n",
    "axs_tires.set_ylim(0, 10)\n",
    "axs_tires.set_xlim(0, 10)\n",
    "draw_tire(axs_tires, 1, 1)\n",
    "draw_tire(axs_tires, 3, 2)"
   ]
  },
  {
   "cell_type": "code",
   "execution_count": null,
   "id": "d9ca0534",
   "metadata": {
    "deletable": false,
    "editable": false
   },
   "outputs": [],
   "source": [
    "grader.check(\"draw_tires\")"
   ]
  },
  {
   "cell_type": "markdown",
   "id": "615802cc",
   "metadata": {
    "deletable": false,
    "editable": false
   },
   "source": [
    "## Part 5: Draw a quarter car\n",
    "\n",
    "It can be really hard to think about the whole `QuarterCar` at once. Classes are very useful ways of \"encapsulating\" data and functionality. We can use classes to encapsulate the knowledge needed to draw a quarter car.\n",
    "\n",
    "When it comes to drawing a `QuarterCar`, there are many properties that are fixed, and a few that are influenced by the dynamic system comprised of the masses, springs, damper, and external forces.\n",
    "\n",
    "The few properties influenced by the dynamic system are:\n",
    "\n",
    "* The `x` coordinate is dictated by the car's position on a 2-D \"road\" (a line).\n",
    "* The `y` coordinate the tire is dictated by the road location ($y_r$) at that `x` coordinate.\n",
    "* The `y` coordinate of the sprung mass ($y_s$) and the unsprung mass ($y_u$) are influenced by the forces acting on the whole `QuarterCar` system, which we will discuss in a future assignment.\n",
    "\n",
    "These properties then directly dictate:\n",
    "\n",
    "* The length of the springs, since they bridge the tire and the unsprung mass, and the unsprung mass and the sprung mass.\n",
    "* The `y` coordinates of each component in the damper, as it is directly attached to the sprung and unsprung masses.\n",
    "\n",
    "The fixed properties, which do not vary, are:\n",
    "\n",
    "* The width and height of the sprung mass ($w_s$, $h_s$) and unsprung mass ($w_u$, $h_u$).\n",
    "* The width of the suspension spring ($w_{ss}$) and tire spring ($w_{ts}$)\n",
    "* The width and height of the damper cylinder ($w_c$, $h_c$)\n",
    "* The height of the sprung mass and unsprung mass rods ($h_{rs}$, $h_{ru}$)\n",
    "* The distance between the suspension spring and suspension damper ($d_s$)\n",
    "* The at-rest distance between the ground and the unsprung mass ($y_{u_{static}}$)\n",
    "* The at-rest distance between the ground and the sprung mass ($y_{s_{static}}$).\n",
    "\n",
    "There are also fun properties that could be set, like the color to draw various bits of the car.\n",
    "\n",
    "Thus, we should be able to package all of the logic needed to draw a `QuarterCar` into a function on a `car` object that only accepts a few external variables:\n",
    "\n",
    "```python\n",
    "car.draw(axs, x, y_s, y_u, y_r)\n",
    "```\n",
    "\n",
    "The car itself can be constructed with the fixed properties passed into the `__init__` function:\n",
    "\n",
    "```python\n",
    "car = QuarterCar(w_s=..., h_s=..., w_u=..., h_u=..., w_ss=..., w_ts=..., w_c=..., h_c=..., h_rs=..., h_ru=..., d_s=..., y_u_static=..., y_s_static=...)\n",
    "```"
   ]
  },
  {
   "cell_type": "code",
   "execution_count": null,
   "id": "43ff25d9",
   "metadata": {
    "tags": []
   },
   "outputs": [],
   "source": [
    "class QuarterCar:\n",
    "    def __init__(self, w_s=1.4, h_s=0.1, w_u=0.5, h_u=0.1, w_ss=0.1, w_ts=0.07, w_c=0.14, h_c=0.5, h_rs=0.49, h_ru=0.09, d_s=0.3, y_s_static=1.6, y_u_static=0.7):\n",
    "        self.w_s = w_s\n",
    "        self.h_s = h_s\n",
    "        self.w_u = w_u\n",
    "        self.h_u = h_u\n",
    "        self.w_ss = w_ss\n",
    "        self.w_ts = w_ts\n",
    "        self.w_c = w_c\n",
    "        self.h_c = h_c\n",
    "        self.h_rs = h_rs\n",
    "        self.h_ru = h_ru\n",
    "        self.d_s = d_s\n",
    "        self.y_u_static = y_u_static\n",
    "        self.y_s_static = y_s_static\n",
    "\n",
    "    def draw(self, axs, x, y_s, y_u, y_r):\n",
    "        # y_s and y_u are adjustments over y_u_static / y_s_static.\n",
    "        y_u = y_u + self.y_u_static\n",
    "        y_s = y_s + self.y_s_static\n",
    "\n",
    "        # Draw tire on the road.\n",
    "        draw_tire(axs, x, y_r)\n",
    "\n",
    "        # Draw the sprung mass, and make it red ('r'). We move the x position to be in the middle of the spring mass.\n",
    "        draw_rectangle(axs, width=self.w_s, height=self.h_s, x=x - (self.w_s/2), y=y_s, color='r')\n",
    "\n",
    "        # TODO: Draw the unsprung mass, and make it blue ('b')\n",
    "\n",
    "        # Draw the tire spring from the road to the unsprung mass\n",
    "        draw_spring(axs, width=self.w_ts, height=y_u - y_r, x=x, y=y_r)\n",
    "\n",
    "        # TODO: Draw the suspension spring from the unsprung mass to the sprung mass.\n",
    "        # Hint: Don't forget to account for the height of the unsprung mass!\n",
    "        # Place the spring at the furthest x position such that the entire spring is over the unsprung mass,\n",
    "        # and store that x position into x_ss.\n",
    "        x_ss = ...\n",
    "\n",
    "        # Draw the damper from the unsprung mass to the sprung mass.\n",
    "        # It's drawn at an x coordinate relative to the suspension spring.\n",
    "        draw_damper(axs, x=x_ss + self.d_s, y_u=y_u + self.h_u, y_s=y_s, width=self.w_c, height=self.h_c, rod_u_height=self.h_ru, rod_s_height=self.h_rs)\n"
   ]
  },
  {
   "cell_type": "code",
   "execution_count": null,
   "id": "585b531d",
   "metadata": {
    "tags": []
   },
   "outputs": [],
   "source": [
    "# Check code: Draw a quarter car.\n",
    "car = QuarterCar()\n",
    "\n",
    "fig_car, axs_car = plt.subplots()\n",
    "axs_car.set_ylim([-0.2, 2])\n",
    "axs_car.set_xlim([9, 11.2])\n",
    "car.draw(axs_car, x=10, y_s=0, y_u=0, y_r=0)\n",
    "plt.show()"
   ]
  },
  {
   "cell_type": "code",
   "execution_count": null,
   "id": "55e21e9b",
   "metadata": {
    "deletable": false,
    "editable": false
   },
   "outputs": [],
   "source": [
    "grader.check(\"draw_quarter_car\")"
   ]
  },
  {
   "cell_type": "markdown",
   "id": "8ab4764d",
   "metadata": {},
   "source": [
    "## Part 6: Animating the quarter car!\n",
    "\n",
    "Now we can animate your car with the `draw` function!"
   ]
  },
  {
   "cell_type": "code",
   "execution_count": null,
   "id": "f881a5dc",
   "metadata": {},
   "outputs": [],
   "source": [
    "data = np.load(\"Data/quarter_car_anim_bump.npy\")\n",
    "y_s = data[0]\n",
    "y_u = data[1]\n",
    "y_r = data[2]\n",
    "x = np.linspace(0, 5, len(y_s))"
   ]
  },
  {
   "cell_type": "code",
   "execution_count": null,
   "id": "cb3b01be",
   "metadata": {},
   "outputs": [],
   "source": [
    "fig_caranim, axs_caranim = plt.subplots()\n",
    "\n",
    "def draw_car_frame(i):\n",
    "    axs_caranim.clear()\n",
    "    axs_caranim.set_ylim([-0.1, 2.5])\n",
    "    axs_caranim.set_xlim([x[i] - 1.2, x[i] + 1.2])\n",
    "    axs_caranim.plot(x, y_r, 'k')\n",
    "    car.draw(axs_caranim, x[i], y_s[i], y_u[i], y_r[i])\n",
    "\n",
    "# We disable repeats for animations because the animation will repeat forever, which can cause issues when re-running a cell.\n",
    "car_anim = animation.FuncAnimation(fig_caranim, draw_car_frame, frames=len(x), interval=1/30 * 1000, repeat=False)\n",
    "plt.show()"
   ]
  },
  {
   "cell_type": "markdown",
   "id": "50526b91",
   "metadata": {},
   "source": [
    "In the next lab, you will learn how to simulate the quarter car system to produce animations like the above."
   ]
  },
  {
   "cell_type": "markdown",
   "id": "320174ad",
   "metadata": {
    "deletable": false,
    "editable": false
   },
   "source": [
    "## Hours and collaborators\n",
    "Required for every assignment - fill out before you hand-in.\n",
    "\n",
    "Listing names and websites helps you to document who you worked with and what internet help you received in the case of any plagiarism issues. You should list names of anyone (in class or not) who has substantially helped you with an assignment - or anyone you have *helped*. You do not need to list TAs.\n",
    "\n",
    "Listing hours helps us track if the assignments are too long."
   ]
  },
  {
   "cell_type": "code",
   "execution_count": null,
   "id": "7d2b9a91",
   "metadata": {
    "tags": []
   },
   "outputs": [],
   "source": [
    "\n",
    "# List of names (creates a set)\n",
    "worked_with_names = {\"not filled out\"}\n",
    "# List of URLS F25(creates a set)\n",
    "websites = {\"not filled out\"}\n",
    "# Approximate number of hours, including lab/in-class time\n",
    "hours = -1.5"
   ]
  },
  {
   "cell_type": "code",
   "execution_count": null,
   "id": "dc7fc7c7",
   "metadata": {
    "deletable": false,
    "editable": false
   },
   "outputs": [],
   "source": [
    "grader.check(\"hours_collaborators\")"
   ]
  },
  {
   "cell_type": "markdown",
   "id": "a1e0727d",
   "metadata": {},
   "source": [
    "### To submit\n",
    "\n",
    "Double check your plots. \n",
    "\n",
    "- Submit this .ipynb file to Lab 6 (classes and drawing)\n",
    "\n",
    "Failures: None expected"
   ]
  }
 ],
 "metadata": {
  "kernelspec": {
   "display_name": "base",
   "language": "python",
   "name": "python3"
  },
  "language_info": {
   "codemirror_mode": {
    "name": "ipython",
    "version": 3
   },
   "file_extension": ".py",
   "mimetype": "text/x-python",
   "name": "python",
   "nbconvert_exporter": "python",
   "pygments_lexer": "ipython3",
   "version": "3.11.5"
  },
  "otter": {
   "OK_FORMAT": true,
   "tests": {
    "draw_damper": {
     "name": "draw_damper",
     "points": 3,
     "suites": [
      {
       "cases": [
        {
         "code": ">>> cylinder = [line for _, line in enumerate(axs_dampers.lines) if len(line.get_xdata()) == 4]\n>>> assert len(cylinder) == 2\n>>> assert np.isclose(np.array([1.5, 1.5, 2.5, 2.5]), cylinder[0].get_xdata()).all()\n>>> assert np.isclose(np.array([5.5, 3.5, 3.5, 5.5]), cylinder[0].get_ydata()).all()\n",
         "hidden": false,
         "locked": false
        }
       ],
       "scored": true,
       "setup": "",
       "teardown": "",
       "type": "doctest"
      }
     ]
    },
    "draw_masses": {
     "name": "draw_masses",
     "points": 1,
     "suites": [
      {
       "cases": [
        {
         "code": ">>> rectangle = axs_polygon2.get_children()[0]\n>>> assert rectangle\n>>> assert np.isclose(np.array([[4, 2], [7, 2], [7, 3], [4, 3], [4, 2]]), rectangle.get_xy()).all()\n",
         "hidden": false,
         "locked": false
        }
       ],
       "scored": true,
       "setup": "",
       "teardown": "",
       "type": "doctest"
      }
     ]
    },
    "draw_quarter_car": {
     "name": "draw_quarter_car",
     "points": 4,
     "suites": [
      {
       "cases": [
        {
         "code": ">>> polygons = [child for i, child in enumerate(axs_car.get_children()) if child.__class__.__name__ == 'Polygon' and np.isclose(child.get_xy()[0][1], car.y_u_static)]\n>>> assert len(polygons) == 1\n>>> assert np.isclose(np.array([[9.75, 0.7], [10.25, 0.7], [10.25, 0.8], [9.75, 0.8], [9.75, 0.7]]), polygons[0].get_xy()).all()\n",
         "hidden": false,
         "locked": false
        },
        {
         "code": ">>> assert len(axs_car.lines) == 7, 'Should contain lines for two springs, four parts of a damper, and one tire'\n",
         "hidden": false,
         "locked": false
        },
        {
         "code": ">>> spring = [line for i, line in enumerate(axs_car.lines) if np.isclose(line.get_ydata()[0], 0.8) and np.isclose(line.get_ydata()[-1], 1.6)]\n>>> assert len(spring) == 1, 'Could not find suspension spring at expected coordinates'\n",
         "hidden": false,
         "locked": false
        }
       ],
       "scored": true,
       "setup": "",
       "teardown": "",
       "type": "doctest"
      }
     ]
    },
    "draw_spring": {
     "name": "draw_spring",
     "points": 0,
     "suites": [
      {
       "cases": [
        {
         "code": ">>> assert len(axs_tall.lines) > 0\n",
         "hidden": false,
         "locked": false
        }
       ],
       "scored": true,
       "setup": "",
       "teardown": "",
       "type": "doctest"
      }
     ]
    },
    "draw_tires": {
     "name": "draw_tires",
     "points": 1,
     "suites": [
      {
       "cases": [
        {
         "code": ">>> assert len(axs_tires.lines) == 2\n",
         "hidden": false,
         "locked": false
        },
        {
         "code": ">>> assert np.isclose(np.array([3]), axs_tires.lines[1].get_xdata()).all()\n",
         "hidden": false,
         "locked": false
        },
        {
         "code": ">>> assert np.isclose(np.array([2]), axs_tires.lines[1].get_ydata()).all()\n",
         "hidden": false,
         "locked": false
        }
       ],
       "scored": true,
       "setup": "",
       "teardown": "",
       "type": "doctest"
      }
     ]
    },
    "hours_collaborators": {
     "name": "hours_collaborators",
     "points": 1,
     "suites": [
      {
       "cases": [
        {
         "code": ">>> assert not 'not filled out' in worked_with_names\n",
         "hidden": false,
         "locked": false
        },
        {
         "code": ">>> assert not 'not filled out' in websites\n",
         "hidden": false,
         "locked": false
        },
        {
         "code": ">>> assert hours > 0\n",
         "hidden": false,
         "locked": false
        }
       ],
       "scored": true,
       "setup": "",
       "teardown": "",
       "type": "doctest"
      }
     ]
    }
   }
  }
 },
 "nbformat": 4,
 "nbformat_minor": 5
}
