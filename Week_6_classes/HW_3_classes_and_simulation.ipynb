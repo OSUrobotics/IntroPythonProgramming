{
 "cells": [
  {
   "cell_type": "code",
   "execution_count": null,
   "id": "eec2b322",
   "metadata": {
    "deletable": false,
    "editable": false
   },
   "outputs": [],
   "source": [
    "# Initialize Otter\n",
    "import otter\n",
    "grader = otter.Notebook(\"HW_3_classes_and_simulation.ipynb\")"
   ]
  },
  {
   "cell_type": "markdown",
   "id": "6e8bb097",
   "metadata": {},
   "source": [
    "# Homework 3: Simulating a half car\n",
    "\n",
    "In the labs, you learned how to draw, animate, and simulate a quarter car as it travels down a road. You learned about state space models, and how computer simulations operate over discrete steps with a specific time delta, `dt`, and how the choice of `dt` is important for making sure your simulation is accurate without being too slow.\n",
    "\n",
    "In this homework, you will combine two quarter cars to form a _half car_, and simulate it driving down a road. You will experiment with different half car parameters and roads.\n",
    "\n",
    "Refer to the assignment slides for a diagram of a half car.\n",
    "\n",
    "While the quarter car state space model solved for $y_u$ and $y_s$, the half car system has four variables we need to solve for:\n",
    "\n",
    "* $y_s$: y position of the sprung mass (body), which is now attached to a front and back suspension\n",
    "* $\\theta$: angle of the sprung mass, since the car body will tilt as it moves\n",
    "* $y_{uf}$: y position of the front unsprung mass (front wheel)\n",
    "* $y_{ub}$: y position of the back unsprung mass (back wheel)\n",
    "\n",
    "And it now has two input variables:\n",
    "\n",
    "* $y_{rf}$: y position of the road under the front tire.\n",
    "* $y_{rb}$: y position of the road under the back tire.\n",
    "\n",
    "Both of those input variables can be derived from the same road, but at different `x` offsets.\n",
    "\n",
    "The system shares the same \"fixed\" properties of the quarter car, but they are doubled as we now have a front and back of a car:\n",
    "\n",
    "* $k_{sf}$, $k_{sb}$: Spring constant for the front and back suspensions' spring.\n",
    "* $c_{sf}$, $c_{sb}$: Damping constant of front and back suspensions' damper.\n",
    "* $k_{tf}$, $k_{tb}$: Spring constant for front and back tires.\n",
    "\n",
    "The system also has two new fixed properties related to the shared sprung mass:\n",
    "\n",
    "* $a_f$, $a_b$: Distance between center of gravity of the car and the front and back of the car, respectively."
   ]
  },
  {
   "cell_type": "code",
   "execution_count": null,
   "id": "54246081",
   "metadata": {},
   "outputs": [],
   "source": [
    "# Imports\n",
    "import numpy as np\n",
    "from scipy.stats import gamma\n",
    "from scipy.signal import StateSpace, lsim\n",
    "import matplotlib.pyplot as plt\n",
    "import matplotlib.animation as animation\n",
    "# Enable animations to work\n",
    "%matplotlib widget"
   ]
  },
  {
   "cell_type": "markdown",
   "id": "47794690",
   "metadata": {
    "deletable": false,
    "editable": false
   },
   "source": [
    "## Part 1: Drawing a half car\n",
    "\n",
    "Before we dive into the state space system for a half car, let's define a `HalfCar` class that can draw a half car.\n",
    "\n",
    "Refer to the homework slides for what the half car should look like.\n",
    "\n",
    "The half car consists of:\n",
    "\n",
    "* A quarter car in the back, drawn the same way as `QuarterCar`, except with the tire spring drawn right under the suspension spring.\n",
    "* A quarter car in the front, which is drawn in a similar way to the back quarter car, but with the damper situated _behind_ the spring rather than in front.\n",
    "* A single sprung mass shared between the quarter cars.\n",
    "\n",
    "We should be able to re-use much of our `QuarterCar` logic to draw this new car.\n",
    "\n",
    "One interesting difference between the `QuarterCar` and the `HalfCar` is that the length of the sprung mass (car body), which visually impacts how we draw the car, is a factor in the simulation as well ($a_f$ and $a_b$). We will pass these properties in as arguments to the `HalfCar`'s `draw` function."
   ]
  },
  {
   "cell_type": "code",
   "execution_count": null,
   "id": "5ce9b196",
   "metadata": {
    "tags": []
   },
   "outputs": [],
   "source": [
    "# TODO: Paste in draw_* functions from Lab 6."
   ]
  },
  {
   "cell_type": "code",
   "execution_count": null,
   "id": "166ebd3c",
   "metadata": {
    "tags": []
   },
   "outputs": [],
   "source": [
    "# TODO: Paste in QuarterCar class from Lab 6.\n"
   ]
  },
  {
   "cell_type": "code",
   "execution_count": null,
   "id": "650d8fcb",
   "metadata": {
    "tags": []
   },
   "outputs": [],
   "source": [
    "class HalfCar:\n",
    "    def __init__(self, h_s=0.1, w_u=0.5, h_u=0.1, w_ss=0.1, w_ts=0.07, w_c=0.14, h_c=0.5, h_rs=0.49, h_ru=0.09, d_s=0.3, y_s_static=1.6, y_u_static=0.7):\n",
    "        # TODO: Create properties on `self` named `front` and `back` that are each a `QuarterCar`.\n",
    "        # TODO: Set `w_s` to 0 in both the front and back `QuarterCar`, and change `QuarterCar`'s `draw` method to\n",
    "        #       skip drawing the sprung mass when `w_s` is 0.\n",
    "        # TODO: Set `d_s`, the distance between the spring and damper in the suspension, to be _negative_ for the\n",
    "        #       front quarter car (`d_s=-d_s`), and change `QuarterCar`'s draw method to draw the damper in front of the spring\n",
    "        #       when `d_s` is negative.\n",
    "        # TODO: In `QuarterCar`'s `draw` method, when `w_s` is 0, draw the suspension's spring directly at `x`.\n",
    "        # TODO: In `QuarterCar`'s `draw` method, when `w_s` is 0, draw the unsprung mass so that it completely contains both the \n",
    "        #       suspension's spring and damper. You will need to change its starting `x` value differently depending on if it's\n",
    "        #       the front or back `QuarterCar`. You can assume that when `d_s < 0`, that the code is dealing with a front `QuarterCar`.\n",
    "\n",
    "    def draw(self, axs, x, y_rf, y_uf, y_rb, y_ub, y_s, a_f, a_b, theta):\n",
    "        # Sprung mass plot\n",
    "        length = a_f + a_b\n",
    "\n",
    "        # Calculate position of sprung mass in front and back\n",
    "        y_sf = y_s - (a_f * theta)\n",
    "        y_sb = y_s + (a_b * theta)\n",
    "\n",
    "        # TODO: Draw the sprung mass.\n",
    "        # HINT: You cannot use draw_rectangle because the sprung mass may be at an angle,\n",
    "        # and draw_rectangle does not support that. You will need to directly call axs.fill.\n",
    "        \n",
    "        self.front.draw(axs=axs, x=x + length, y_s=y_sf, y_u=y_uf, y_r=y_rf)\n",
    "        self.back.draw(axs=axs, x=x, y_s=y_sb, y_u=y_ub, y_r=y_rb)"
   ]
  },
  {
   "cell_type": "code",
   "execution_count": null,
   "id": "d77fbcf5",
   "metadata": {
    "tags": []
   },
   "outputs": [],
   "source": [
    "# Let's draw a half car!\n",
    "half_car = HalfCar()\n",
    "\n",
    "fig_half_car, axs_half_car = plt.subplots()\n",
    "half_car.draw(axs=axs_half_car, x=10, y_rf=0, y_uf=0, y_rb=0, y_ub=0, y_s=0, a_f=1.4, a_b=1.4, theta=0)\n",
    "plt.show()"
   ]
  },
  {
   "cell_type": "code",
   "execution_count": null,
   "id": "810c9c45",
   "metadata": {
    "deletable": false,
    "editable": false
   },
   "outputs": [],
   "source": [
    "grader.check(\"draw_half_car\")"
   ]
  },
  {
   "cell_type": "markdown",
   "id": "97113c0f",
   "metadata": {
    "deletable": false,
    "editable": false
   },
   "source": [
    "## Part 2: Simulating the half car with a state space model\n",
    "\n",
    "It's a bit more work, and requires one new mathematical trick, but we can also distill a half car into a state space system.\n",
    "\n",
    "First, I will describe the state space system. Then, we will put it to work to simulate the half car.\n",
    "\n",
    "### $y_s$: the y position of the sprung mass (body)\n",
    "\n",
    "The sprung mass has two springs and two dampers acting on it, but the force is tempered by the angle of the sprung mass ($\\theta$):\n",
    "\n",
    "$$m\\ddot{y_s} = -k_{sf}(y_s - y_{uf} - a_{f}\\sin{\\theta}) - k_{sb}(y_s - y_{ub} + a_{b}\\sin{\\theta}) - c_{f}(\\dot{y_s} - \\dot{y_{uf}} - a_{f}\\dot{\\theta}\\cos{\\theta}) - c_b(\\dot{y_s} - \\dot{y_ub} + a_{b}\\dot{\\theta}\\cos{\\theta})$$\n",
    "\n",
    "We can simplify this expression with the [small-angle approximation](https://en.wikipedia.org/wiki/Small-angle_approximation), which states that, for small angles:\n",
    "\n",
    "$$\\sin{\\theta} \\approx \\theta$$\n",
    "\n",
    "$$\\cos{\\theta} \\approx 1$$\n",
    "\n",
    "We expect that the body is pitched by only a small angle, so we will trade simulation fidelity for a simpler system by applying this substitution, giving us:\n",
    "\n",
    "$$m_s\\ddot{y_s} = -k_{sf}(y_s - y_{uf} - a_{f}\\theta) - k_{sb}(y_s - y_{ub} + a_{b}\\theta) - c_{f}(\\dot{y_s} - \\dot{y_{uf}} - a_{f}\\dot{\\theta}) - c_b(\\dot{y_s} - \\dot{y_{ub}} + a_{b}\\dot{\\theta})$$\n",
    "\n",
    "Like before, we can move terms around and solve for $\\ddot{y_s}$ in terms of our four state variables:\n",
    "\n",
    "$$m_s\\ddot{y_s} = -k_{sf}y_s + k_{sf}y_{uf} + k_{sf}a_{f}\\theta - k_{sb}y_s + k_{sb}y_{ub} - k_{sb}a_{b}\\theta - c_{f}\\dot{y_s} + c_{f}\\dot{y_{uf}} + c_{f}a_{f}\\dot{\\theta} - c_b\\dot{y_s} + c_b\\dot{y_{ub}} - c_{b}a_{b}\\dot{\\theta}$$\n",
    "\n",
    "$$m_s\\ddot{y_s} = y_s(-k_{sf}-k_{sb}) + k_{sf}y_{uf} + \\theta(k_{sf}a_{f} - k_{sb}a_{b}) + k_{sb}y_{ub} + c_{f}\\dot{y_{uf}} + (c_{f}a_{f} - c_ba_{b})\\dot{\\theta} - \\dot{y_s}(c_b + c_{f}) + c_b\\dot{y_{ub}}$$\n",
    "\n",
    "$$\\ddot{y_s} = \\frac{-k_{sf}-k_{sb}}{m_s}y_s + \\frac{k_{sf}}{m_s}y_{uf} + \\frac{k_{sb}}{m_s}y_{ub} + \\frac{k_{sf}a_{f} - k_{sb}a_{b}}{m_s}\\theta + \\frac{-c_b - c_{f}}{m_s}\\dot{y_s} + \\frac{c_{f}}{m_s}\\dot{y_{uf}} + \\frac{c_b}{m_s}\\dot{y_{ub}} + \\frac{c_{f}a_{f} - c_ba_{b}}{m_s}\\dot{\\theta}$$\n",
    "\n",
    "### $y_{uf}$ and $y_{ub}$: y position of the front and back unsprung masses (wheels)\n",
    "\n",
    "Both of these positions are governed by the same equations:\n",
    "\n",
    "$$m_{uf}\\ddot{y_{uf}} = k_f(y_s - y_{uf} - a_f\\sin{\\theta}) + c_f(\\dot{y_s} - \\dot{y_{uf}} - a_{f}\\dot{\\theta}\\cos{\\theta}) - k_{tf}(y_{uf} - y_{rf})$$\n",
    "\n",
    "$$m_{ub}\\ddot{y_{ub}} = k_b(y_s - y_{ub} + a_b\\sin{\\theta}) + c_b(\\dot{y_s} - \\dot{y_{ub}} + a_b\\dot{\\theta}\\cos{\\theta}) - k_{tb}(y_{ub} - y_{rb})$$\n",
    "\n",
    "Once again, we can apply the small angle approximation to simplify:\n",
    "\n",
    "$$m_{uf}\\ddot{y_{uf}} = k_f(y_s - y_{uf} - a_f\\theta) + c_f(\\dot{y_s} - \\dot{y_{uf}} - a_{f}\\dot{\\theta}) - k_{tf}(y_{uf} - y_{rf})$$\n",
    "\n",
    "$$m_{ub}\\ddot{y_{ub}} = k_b(y_s - y_{ub} + a_b\\theta) + c_b(\\dot{y_s} - \\dot{y_{ub}} + a_b\\dot{\\theta}) - k_{tb}(y_{ub} - y_{rb})$$\n",
    "\n",
    "Multiply out, and we get:\n",
    "\n",
    "$$\\ddot{y_{uf}} = \\frac{k_f}{m_{uf}}y_s + \\frac{-k_f-k_tf}{m_{uf}}y_{uf} + \\frac{-a_fk_f}{m_{uf}}\\theta + \\frac{c_f}{m_{uf}}\\dot{y_s} + \\frac{-c_f}{m_{uf}}\\dot{y_{uf}} + \\frac{-a_{f}c_{f}}{m_{uf}}\\dot{\\theta} + \\frac{k_{tf}}{m_{uf}}y_{rf}$$\n",
    "\n",
    "$$\\ddot{y_{ub}} = \\frac{k_b}{m_{ub}}y_s + \\frac{-k_b-k_{tb}}{m_{ub}}y_{ub} + \\frac{k_{b}a_{b}}{m_{ub}}\\theta + \\frac{c_b}{m_{ub}}\\dot{y_s} + \\frac{-c_b}{m_{ub}}\\dot{y_{ub}} + \\frac{c_{b}a_b}{m_{ub}}\\dot{\\theta} + \\frac{k_{tb}}{m_{ub}}y_{rb}$$\n",
    "\n",
    "### $\\theta$: angle of the sprung mass\n",
    "\n",
    "$$I_y\\ddot{\\theta} = a_{f}k_{f}(y_s - y_{uf} - a_f\\sin{\\theta}) - a_{b}k_{b}(y_s - y_{ub} + a_{b}\\sin{\\theta}) + a_{f}c_{f}(\\dot{y_s} - \\dot{y_{uf}}-a_f\\dot{\\theta}\\cos{\\theta}) - a_{b}c_{b}(\\dot{y_s} - \\dot{y_{ub}} + a_b\\dot{\\theta}\\cos{\\theta})$$\n",
    "\n",
    "Once again, small angle approximation makes this simpler:\n",
    "\n",
    "$$I_y\\ddot{\\theta} = a_{f}k_{f}(y_s - y_{uf} - a_f\\theta) - a_{b}k_{b}(y_s - y_{ub} + a_{b}\\theta) + a_{f}c_{f}(\\dot{y_s} - \\dot{y_{uf}}-a_f\\dot{\\theta}) - a_{b}c_{b}(\\dot{y_s} - \\dot{y_{ub}} + a_b\\dot{\\theta})$$\n",
    "\n",
    "Multiply out, and we get:\n",
    "\n",
    "$$\\ddot{\\theta} = \\frac{a_{f}k_{f} - a_{b}k_{b}}{I_y}y_s + \\frac{-a_fk_f}{I_y}y_{uf} + \\frac{a_bk_b}{I_y}y_{ub} + \\frac{-a_{f}^{2}k_f - a_{b}^{2}k_b}{I_y}\\theta + \\frac{a_fc_f - a_bc_b}{I_y}\\dot{y_s} + \\frac{-a_fc_f}{I_y}\\dot{y_{uf}} + \\frac{a_bc_b}{I_y}\\dot{y_{ub}} + \\frac{a_{f}^{2}c_f - a_b^2c_b}{I_y}\\dot{\\theta}$$\n"
   ]
  },
  {
   "cell_type": "markdown",
   "id": "dee228fc",
   "metadata": {
    "deletable": false,
    "editable": false
   },
   "source": [
    "### State space model\n",
    "\n",
    "Like before, we can derive the state space model from the equations above.\n",
    "\n",
    "#### $A$: The transition matrix\n",
    "\n",
    "| | $y_s$ | $\\theta$ | $y_{uf}$ | $y_{ub}$ | $\\dot{y_s}$ | $\\dot{\\theta}$ | $\\dot{y_{uf}}$ | $\\dot{y_{ub}}$ |\n",
    "|-|-------|----------|----------|----------|-------------|----------------|----------------|----------------|\n",
    "| $\\dot{y_s}$ | 0 | 0 | 0 | 0 | 1 | 0 | 0| 0|\n",
    "| $\\dot{\\theta}$ | 0 | 0 | 0 | 0 | 0 | 1 | 0| 0|\n",
    "| $\\dot{y_{uf}}$ | 0 | 0 | 0 | 0 | 0 | 0 | 1| 0|\n",
    "| $\\dot{y_{ub}}$ | 0 | 0 | 0 | 0 | 0 | 0 | 0| 1|\n",
    "| $\\ddot{y_s}$ | $\\frac{-k_{sf}-k_{sb}}{m_s}$ | $\\frac{k_{sf}a_{f} - k_{sb}a_{b}}{m_s}$ | $\\frac{k_{sf}}{m_s}$ | $\\frac{k_{sb}}{m_s}$ | $\\frac{-c_b - c_{f}}{m_s}$ | $\\frac{c_{f}a_{f} - c_ba_{b}}{m_s}$ | $\\frac{c_{f}}{m_s}$ | $\\frac{c_b}{m_s}$ |\n",
    "| $\\ddot{\\theta}$ | $\\frac{a_{f}k_{f} - a_{b}k_{b}}{I_y}$ | $\\frac{-a_{f}^{2}k_f - a_{b}^{2}k_b}{I_y}$ | $\\frac{-a_fk_f}{I_y}$ | $\\frac{a_bk_b}{I_y}$ | $\\frac{a_fc_f - a_bc_b}{I_y}$ | $\\frac{-a_{f}^{2}c_f - a_b^2c_b}{I_y}$ | $\\frac{-a_fc_f}{I_y}$ | $\\frac{a_bc_b}{I_y}$ | \n",
    "| $\\ddot{y_{uf}}$ | $\\frac{k_f}{m_{uf}}$ | $\\frac{-a_fk_f}{m_{uf}}$ | $\\frac{-k_f-k_{tf}}{m_{uf}}$ | 0 | $\\frac{c_f}{m_{uf}}$ | $\\frac{-a_{f}c_{f}}{m_{uf}}$ | $\\frac{-c_f}{m_{uf}}$ | $0$ |\n",
    "| $\\ddot{y_{ub}}$ | $\\frac{k_b}{m_{ub}}$ | $\\frac{k_{b}a_{b}}{m_{ub}}$ | $0$ | $\\frac{-k_b-k_{tb}}{m_{ub}}$ | $\\frac{c_b}{m_{ub}}$ | $\\frac{c_{b}a_b}{m_{ub}}$ | $0$ | $\\frac{-c_b}{m_{ub}}$ |\n",
    "\n",
    "\n",
    "#### $B$: The input matrix\n",
    "\n",
    "| | $y_{rf}$ | $y_{rb}$ |\n",
    "|-|-------|----------|\n",
    "| $\\dot{y_s}$ | 0 | 0 |\n",
    "| $\\dot{\\theta}$ | 0 | 0 |\n",
    "| $\\dot{y_{uf}}$ |  0 | 0 |\n",
    "| $\\dot{y_{ub}}$ |  0 | 0 |\n",
    "| $\\ddot{y_s}$ | 0 | 0 |\n",
    "| $\\ddot{\\theta}$ | 0 | 0 |\n",
    "| $\\ddot{y_{uf}}$ | $\\frac{k_{tf}}{m_{uf}}$ | 0 |\n",
    "| $\\ddot{y_{ub}}$ | 0 | $\\frac{k_{tb}}{m_{ub}}$ |\n",
    "\n",
    "#### $C$: The output matrix\n",
    "\n",
    "| | $y_s$ | $\\theta$ | $y_{uf}$ | $y_{ub}$ | $\\dot{y_s}$ | $\\dot{\\theta}$ | $\\dot{y_{uf}}$ | $\\dot{y_{ub}}$ |\n",
    "|-|-------|----------|----------|----------|-------------|----------------|----------------|----------------|\n",
    "| $y_s$ | 1 | 0 | 0 | 0 | 0 | 0 | 0 | 0 |\n",
    "| $\\theta$ | 0 | 1 | 0 | 0 | 0 | 0 | 0 | 0 |\n",
    "| $y_{uf}$  | 0 | 0 | 1 | 0 | 0 | 0 | 0 | 0 |\n",
    "| $y_{ub}$ | 0 | 0 | 0 | 1 | 0 | 0 | 0 | 0 |\n",
    "\n",
    "#### $D$: How input influences output\n",
    "\n",
    "Once again, $D$ is all zeroes.\n",
    "\n",
    "| | $y_{rf}$ | $y_{rb}$ |\n",
    "|-|-------|----------|\n",
    "| $\\dot{y_s}$ | 0 | 0 |\n",
    "| $\\dot{\\theta}$ | 0 | 0 |\n",
    "| $\\dot{y_{uf}}$  | 0 | 0 |\n",
    "| $\\dot{y_{ub}}$ | 0 | 0 |"
   ]
  },
  {
   "cell_type": "markdown",
   "id": "76f80020",
   "metadata": {
    "deletable": false,
    "editable": false
   },
   "source": [
    "### Simulating a half car with the state space system\n",
    "\n",
    "With the state space system defined, it's time to simulate a half car. While we had you type out all of the matrices in the lab, for this homework, we will provide you with all of the matrices except for `B`.\n",
    "\n",
    "First, the `HalfCarSimulationOutput` will contain all of the output variables we are solving for ($y_s$, $y_uf$, $y_ub$, $theta$) along with simulation parameters ($x_r$, $y_rf$, $y_rb$, `velocity`, `time`, `dt`). Define its `__init__` function."
   ]
  },
  {
   "cell_type": "code",
   "execution_count": null,
   "id": "c73cb83c",
   "metadata": {
    "tags": []
   },
   "outputs": [],
   "source": [
    "class HalfCarSimulationOutput:\n",
    "    \"\"\"\n",
    "    Helper class that contains the output of a half car simulation.\n",
    "    \"\"\"\n",
    "    def __init__(self, velocity, time, dt, x_r, y_rf, y_rb, y_s, theta, y_uf, y_ub):\n",
    "        # TODO: Assign the arguments to properties on `self`."
   ]
  },
  {
   "cell_type": "code",
   "execution_count": null,
   "id": "d6705047",
   "metadata": {
    "tags": []
   },
   "outputs": [],
   "source": [
    "# Check code\n",
    "simulation_output = HalfCarSimulationOutput(\n",
    "    velocity=1,\n",
    "    time=np.array([2.0]),\n",
    "    dt=3,\n",
    "    x_r=np.array([4.0]),\n",
    "    y_rf=np.array([5.0]),\n",
    "    y_rb=np.array([6.0]),\n",
    "    y_s=np.array([7.0]),\n",
    "    theta=np.array([8.0]),\n",
    "    y_uf=np.array([9.0]),\n",
    "    y_ub=np.array([10.0]))"
   ]
  },
  {
   "cell_type": "code",
   "execution_count": null,
   "id": "30d44596",
   "metadata": {
    "deletable": false,
    "editable": false
   },
   "outputs": [],
   "source": [
    "grader.check(\"simulation_init_function\")"
   ]
  },
  {
   "cell_type": "markdown",
   "id": "baf02c60",
   "metadata": {
    "deletable": false,
    "editable": false
   },
   "source": [
    "<!-- BEGIN QUESTION -->\n",
    "\n",
    "Next, a `HalfCarModel` combines a `QuarterCarModel` for the front, and a `QuarterCarModel` for the back. With this setup, properties belonging to the front or back of the half car are on `self.front` and `self.back`.\n",
    "\n",
    "For example, the mass of the back unsprung weight ($m_{ub}$) is `self.back.m_u` in the code.\n",
    "\n",
    "We also define the mass of the `HalfCarModel`'s sprung mass to be the combined weight of the sprung mass in the front and back."
   ]
  },
  {
   "cell_type": "code",
   "execution_count": null,
   "id": "beb9d525",
   "metadata": {
    "tags": []
   },
   "outputs": [],
   "source": [
    "# TODO: Insert `QuarterCarModel` from Lab 7 with just its __init__ function.\n",
    "# You can omit its `simulate`, `A`, `B`, `C`, and `D` functions, as we will not need them for a half car."
   ]
  },
  {
   "cell_type": "code",
   "execution_count": null,
   "id": "20603c5c",
   "metadata": {
    "tags": []
   },
   "outputs": [],
   "source": [
    "# TODO: Insert `interpolate_road` from Lab 7. Add two new arguments -- start_offset and stop_offset -- that default to 0.\n",
    "def interpolate_road(X_r, Y_r, velocity, dt, start_offset=0, stop_offset=0):\n",
    "    ..."
   ]
  },
  {
   "cell_type": "code",
   "execution_count": null,
   "id": "e92c4e03",
   "metadata": {
    "tags": []
   },
   "outputs": [],
   "source": [
    "class HalfCarModel:\n",
    "    def __init__(self, front=QuarterCarModel(m_u=53, k_s=10000), back = QuarterCarModel(m_u=76, k_s=13000), a_f=1.4, a_b=1.47):\n",
    "        self.front = front\n",
    "        self.back = back\n",
    "        self.a_f = a_f\n",
    "        self.a_b = a_b\n",
    "        self.Iy = 1100\n",
    "\n",
    "    # TODO: Write a function `m_s` that returns the sum of the front and back `m_s`.\n",
    "    def m_s(self):\n",
    "        ...\n",
    "\n",
    "    def A(self):\n",
    "        # Assigning these to a local variable makes the code below smaller.\n",
    "        front = self.front\n",
    "        back = self.back\n",
    "        return np.array([\n",
    "            [0, 0, 0, 0, 1, 0, 0, 0],\n",
    "            [0, 0, 0, 0, 0, 1, 0, 0],\n",
    "            [0, 0, 0, 0, 0, 0, 1, 0],\n",
    "            [0, 0, 0, 0, 0, 0, 0, 1],\n",
    "            [\n",
    "                -(front.k_s + back.k_s)/self.m_s(),\n",
    "                (front.k_s * self.a_f - back.k_s * self.a_b)/self.m_s(),\n",
    "                front.k_s/self.m_s(), back.k_s/self.m_s(),\n",
    "                -(back.c_s + front.c_s)/self.m_s(),\n",
    "                (front.c_s*self.a_f - back.c_s * self.a_b)/self.m_s(),\n",
    "                front.c_s / self.m_s(),\n",
    "                back.c_s/self.m_s()\n",
    "            ],\n",
    "            [\n",
    "                (self.a_f*front.k_s - self.a_b * back.k_s)/self.Iy,\n",
    "                -(self.a_f**2 * front.k_s + self.a_b**2 * back.k_s)/self.Iy,\n",
    "                -self.a_f * front.k_s/self.Iy,\n",
    "                self.a_b * back.k_s / self.Iy,\n",
    "                (self.a_f * front.c_s - self.a_b * back.c_s)/self.Iy,\n",
    "                -((self.a_f**2 * front.c_s) + (self.a_b**2 * back.c_s))/self.Iy,\n",
    "                -self.a_f * front.c_s/self.Iy,\n",
    "                self.a_b * back.c_s / self.Iy\n",
    "            ],\n",
    "            [\n",
    "                front.k_s / front.m_u,\n",
    "                -self.a_f * front.k_s/front.m_u,\n",
    "                -(front.k_s + front.k_t)/front.m_u,\n",
    "                0,\n",
    "                front.c_s/front.m_u,\n",
    "                -self.a_f * front.c_s/front.m_u,\n",
    "                -front.c_s/front.m_u,\n",
    "                0\n",
    "            ],\n",
    "            [\n",
    "                back.k_s/back.m_u,\n",
    "                back.k_s * self.a_b / back.m_u,\n",
    "                0,\n",
    "                -(back.k_s + back.k_t)/back.m_u,\n",
    "                back.c_s / back.m_u,\n",
    "                back.c_s * self.a_b / back.m_u,\n",
    "                0,\n",
    "                -back.c_s/back.m_u\n",
    "            ],\n",
    "        ])\n",
    "    \n",
    "    def B(self):\n",
    "        # TODO: Define B.\n",
    "        ...\n",
    "\n",
    "    def C(self):\n",
    "        return np.array([\n",
    "            [1, 0, 0, 0, 0, 0, 0, 0],\n",
    "            [0, 1, 0, 0, 0, 0, 0, 0],\n",
    "            [0, 0, 1, 0, 0, 0, 0, 0],\n",
    "            [0, 0, 0, 1, 0, 0, 0, 0],\n",
    "        ])\n",
    "\n",
    "    def D(self):\n",
    "        return np.zeros((4,2))\n",
    "\n",
    "    def simulate(self, velocity, dt, x_r, y_r):\n",
    "        # State space model\n",
    "        sys = StateSpace(self.A(), self.B(), self.C(), self.D())\n",
    "\n",
    "        # We need the x and y positions of both tires on the road. In the real world, the angle of the car\n",
    "        # would influence the x displacement between the front and rear tire. But in our simplified model,\n",
    "        # the x displacement between the tires is always the length of the car:\n",
    "        #   x_rf - x_rb = a_f + a_b\n",
    "        #\n",
    "        # So, when traveling down our road:\n",
    "        # * The rear tire will travel from first_road_position to final_road_position - self.a_f - self.a_b\n",
    "        # * The front tire will travel from first_road_position + self.a_f + self.a_b to final_road_position\n",
    "\n",
    "        # TODO: Use `interpolate_road` to define `x_rb`, `y_rb`, `x_rf`, and `y_rf`. Add optional arguments `start_offset` and `stop_offset`\n",
    "        # that alter the start and stop of the X coordinates in the interpolation.\n",
    "        # Note: x_rf will never actually be used.\n",
    "        x_rb, y_rb = (..., ...)\n",
    "        x_rf, y_rf = (..., ...)\n",
    "\n",
    "        # Input variables are in a matrix where each column is an input variable,\n",
    "        # and the `i`th row is the value of those input variables at time `time[i]`.\n",
    "        y_c = np.array([\n",
    "            y_rf,\n",
    "            y_rb,\n",
    "        ]).transpose()\n",
    "\n",
    "        # Since x_rb begins at first_road_position, we'll use it to define time and as the x postiion of the car in the simulation output.\n",
    "        time = x_rb / velocity\n",
    "        [_,y_out,_] = lsim(sys, y_c, time)\n",
    "\n",
    "        # Extract the output variables. Each column is a specific output variable\n",
    "        # over time.\n",
    "        y_s      = y_out[:,0]\n",
    "        theta   = y_out[:,1]\n",
    "        y_uf     = y_out[:,2]\n",
    "        y_ub    = y_out[:,3]\n",
    "\n",
    "        return HalfCarSimulationOutput(velocity=velocity, time=time, x_r=x_rb, dt=dt, y_s=y_s, y_uf=y_uf, y_ub=y_ub, y_rf=y_rf, y_rb = y_rb, theta=theta)"
   ]
  },
  {
   "cell_type": "code",
   "execution_count": null,
   "id": "1984cd99",
   "metadata": {
    "tags": []
   },
   "outputs": [],
   "source": [
    "# TODO: Paste code from Lab 7 to make the road X_r, Y_r."
   ]
  },
  {
   "cell_type": "code",
   "execution_count": null,
   "id": "9464dddd",
   "metadata": {
    "tags": []
   },
   "outputs": [],
   "source": [
    "# TODO: Paste in animate_car from Lab 7, and adapt it to a half car.\n",
    "# You will need to change:\n",
    "# 1. The call to `car.draw`.\n",
    "# 2. The calculation of `x_size_max` to account for the car's length (`a_f` + `a_b`).\n",
    "# 3. `car.y_s_static` to use the value from either the front or back quarter car.\n",
    "# 4. The xlim to center the camera on the center of the half car (x_r will contain the x coordinate of the rear tire).\n",
    "def animate_car(car_model, car, velocity, dt, x_r, y_r, playback_speed=1.0):\n",
    "    ..."
   ]
  },
  {
   "cell_type": "code",
   "execution_count": null,
   "id": "769cd335",
   "metadata": {
    "tags": []
   },
   "outputs": [],
   "source": [
    "# Check code: Animate the half car.\n",
    "half_car_model = HalfCarModel()\n",
    "half_car_anim = animate_car(half_car_model, half_car, velocity=10, dt=5, x_r=X_r, y_r=Y_r)"
   ]
  },
  {
   "cell_type": "markdown",
   "id": "0f5a451b",
   "metadata": {
    "deletable": false,
    "editable": false
   },
   "source": [
    "<!-- END QUESTION -->\n",
    "\n",
    "## Part 3: Fixing the simulation.\n",
    "\n",
    "The simulation hardcodes the mass moment of inertia as 1100 $kg.m^2$, but that isn't correct for every car, since the length and weight of the car influences this value.\n",
    "\n",
    "Change the simulation to approximate the mass moment of inertia of the car as a rod with an evenly distributed mass rotating about its end.\n"
   ]
  },
  {
   "cell_type": "code",
   "execution_count": null,
   "id": "6cd35fd4",
   "metadata": {
    "tags": []
   },
   "outputs": [],
   "source": [
    "# 10m long stretch limo that weighs ~7000 lbs.\n",
    "stretch_limo_model = HalfCarModel(front=QuarterCarModel(m_u=53, c_s=20000, k_s=200000, k_t=300000, m_s=1587), back=QuarterCarModel(m_u=76, c_s=20000, k_s=204000, k_t=300000, m_s=1587), a_f=4.0, a_b=6.0)\n",
    "\n",
    "print(f\"Iy: {stretch_limo_model.Iy}\")"
   ]
  },
  {
   "cell_type": "code",
   "execution_count": null,
   "id": "d22928d4",
   "metadata": {
    "tags": []
   },
   "outputs": [],
   "source": [
    "import copy\n",
    "# Copies the model and fixes Iy to the broken value so you can compare before/after a fix.\n",
    "broken_model = copy.deepcopy(stretch_limo_model)\n",
    "broken_model.Iy = 1100\n",
    "\n",
    "# Animates this super long car on a longer version of X_r with a 3.8x larger peak.\n",
    "# We are using a larger dt here because the animation is slow with the large plot size.\n",
    "anim = animate_car(car_model=broken_model, car=half_car, velocity=10, dt=20, x_r=X_r * 5, y_r=Y_r * 3.8)\n",
    "plt.show()"
   ]
  },
  {
   "cell_type": "code",
   "execution_count": null,
   "id": "978e25f8",
   "metadata": {
    "tags": []
   },
   "outputs": [],
   "source": [
    "# animate the car with your Iy fix\n",
    "anim = animate_car(car_model=stretch_limo_model, car=half_car, velocity=10, dt=20, x_r=X_r * 5, y_r=Y_r * 3.8)\n",
    "plt.show()"
   ]
  },
  {
   "cell_type": "code",
   "execution_count": null,
   "id": "fc724220",
   "metadata": {
    "deletable": false,
    "editable": false
   },
   "outputs": [],
   "source": [
    "grader.check(\"half_car_simulation_fix\")"
   ]
  },
  {
   "cell_type": "markdown",
   "id": "fd1a6c89",
   "metadata": {
    "deletable": false,
    "editable": false
   },
   "source": [
    "<!-- BEGIN QUESTION -->\n",
    "\n",
    "With the mass moment of inertia calculation fixed, how does the animation above change? Write your answer in the panel below."
   ]
  },
  {
   "cell_type": "markdown",
   "id": "3d33e32d",
   "metadata": {},
   "source": [
    "_Type your answer here, replacing this text._"
   ]
  },
  {
   "cell_type": "markdown",
   "id": "58c53afa",
   "metadata": {
    "deletable": false,
    "editable": false
   },
   "source": [
    "<!-- END QUESTION -->\n",
    "\n",
    "## Part 4: Visualizing vibration\n",
    "\n",
    "Oftentimes, the goal of simulation is to affordably test a design before building the real thing. For cars, one might use a simulation to try to minimize vibrations.\n",
    "\n",
    "We can visualize the vibration of our half cars by plotting the delta between the optimal no-vibration y position of the sprung mass in the front and the back and the actual y position on a given road.\n",
    "\n",
    "Recall how we determine the `y` position of the sprung mass in `HalfCar`'s `draw` function. For simplicity, let's focus on the back tire:\n",
    "\n",
    "```python\n",
    "y_sb = y_s + (a_b * theta) + self.back.y_s_static\n",
    "```\n",
    "\n",
    "Or, in fancy math notation:\n",
    "\n",
    "$$y_{sb} = y_s + (a_b * \\theta) + y_{s_{static}}$$\n",
    "\n",
    "We want to know the delta between the car with _no vibration_ and the actual car.\n",
    "\n",
    "No vibration would be:\n",
    "\n",
    "$$y_{static} = y_{rb} + y_{s_{static}}$$\n",
    "\n",
    "So, the delta would be:\n",
    "\n",
    "$$y_{sb} - y_{static} = y_s + (a_b * \\theta) + y_{s_{static}} - y_{rb} + y_{s_{static}} = y_s + (a_b * \\theta) - y_{rb}$$\n",
    "\n",
    "Your task is to perform this calculation on the Numpy arrays in the simulation output and graph it. Compare the vibrations of the broken limo from part 3 and the fixed limo."
   ]
  },
  {
   "cell_type": "code",
   "execution_count": null,
   "id": "4ecc40ac",
   "metadata": {
    "tags": []
   },
   "outputs": [],
   "source": [
    "# Perform the simulation to get the output.\n",
    "stretch_model_output = stretch_limo_model.simulate(velocity=10, dt=4, x_r=X_r * 5, y_r=Y_r * 3.8)\n",
    "broken_model_output = broken_model.simulate(velocity=10, dt=4, x_r=X_r * 5, y_r=Y_r * 3.8)"
   ]
  },
  {
   "cell_type": "code",
   "execution_count": null,
   "id": "506c149b",
   "metadata": {
    "tags": []
   },
   "outputs": [],
   "source": [
    "# TODO: Write code to calculate and plot the vibration of the non-broken and broken limo. You should use two subplots -- one for each limo -- and fix the axes to be the same.\n",
    "# The first plot should be the non-broken limo.\n",
    "fig_vib, axs_vib = (..., ...)\n"
   ]
  },
  {
   "cell_type": "code",
   "execution_count": null,
   "id": "952b0484",
   "metadata": {
    "tags": []
   },
   "outputs": [],
   "source": [
    "# TODO: Same plot as before, but use `sprung_mass_displacement`."
   ]
  },
  {
   "cell_type": "code",
   "execution_count": null,
   "id": "d552770f",
   "metadata": {
    "deletable": false,
    "editable": false
   },
   "outputs": [],
   "source": [
    "grader.check(\"visualize_vibration\")"
   ]
  },
  {
   "cell_type": "markdown",
   "id": "aac6d908",
   "metadata": {
    "deletable": false,
    "editable": false
   },
   "source": [
    "## Part 5: Cars with no damping\n",
    "\n",
    "Now that we have a working half-car simulation, let's play with it a bit. Let's define two different half cars *without any damping*, and ride them down three different road -- two that we provide, and one that you will define. We can then plot their vibrations and compare.\n",
    "\n",
    "Then, we will calculate a decent damping coefficient for each car, install the damper, and compare with and without damping.\n",
    "\n",
    "The first half car will be a normal internal combustion engine, and the second will be an electric car.\n",
    "\n",
    "For simplicity, we will be modeling the half cars with the weight of a full car."
   ]
  },
  {
   "cell_type": "code",
   "execution_count": null,
   "id": "7e2e0677",
   "metadata": {
    "tags": []
   },
   "outputs": [],
   "source": [
    "# TODO: Define the internal combustion engine car model using the values above.\n",
    "combustion_car_model = ..."
   ]
  },
  {
   "cell_type": "code",
   "execution_count": null,
   "id": "87e76c70",
   "metadata": {
    "tags": []
   },
   "outputs": [],
   "source": [
    "# TODO: Define the electric car model using the values above.\n",
    "electric_car_model = ..."
   ]
  },
  {
   "cell_type": "code",
   "execution_count": null,
   "id": "338d2ff1",
   "metadata": {
    "tags": []
   },
   "outputs": [],
   "source": [
    "# Hilly road\n",
    "X_r_test_1 = np.array([0, 7, 15, 20, 25, 40])\n",
    "Y_r_test_1 = np.array([0, 0, 3, 2, 0, 0 ])\n",
    "\n",
    "# Big spike\n",
    "X_r_test_2 = np.array([0, 7, 12, 15, 20, 25, 40])\n",
    "Y_r_test_2 = np.array([0, 0, 0, 3, 0, 0, 0 ])\n",
    "\n",
    "# TODO: Define your own road! It should be at least 40 meters long.\n",
    "X_r_test_3 = ...\n",
    "Y_r_test_3 = ..."
   ]
  },
  {
   "cell_type": "code",
   "execution_count": null,
   "id": "49390699",
   "metadata": {
    "tags": []
   },
   "outputs": [],
   "source": [
    "# Check code: You can view animations of your car model here before proceeding to plot\n",
    "test_anim = animate_car(car_model=electric_car_model, car=half_car, velocity=10, dt=10, x_r=X_r_test_3, y_r=Y_r_test_3)\n",
    "plt.show()"
   ]
  },
  {
   "cell_type": "code",
   "execution_count": null,
   "id": "b24a74dd",
   "metadata": {
    "tags": []
   },
   "outputs": [],
   "source": [
    "# TODO: Make a 3x1 plot showing the cars' vibrations going down each road. Each plot should be its own road,\n",
    "# with two lines: one per car. Label each plot and each line.\n",
    "fig_vib3, axs_vib3 = (..., ...)\n"
   ]
  },
  {
   "cell_type": "code",
   "execution_count": null,
   "id": "d979a040",
   "metadata": {
    "deletable": false,
    "editable": false
   },
   "outputs": [],
   "source": [
    "grader.check(\"cars_no_damping\")"
   ]
  },
  {
   "cell_type": "markdown",
   "id": "f4bfed7b",
   "metadata": {
    "deletable": false,
    "editable": false
   },
   "source": [
    "<!-- BEGIN QUESTION -->\n",
    "\n",
    "## Part 6: Adding damping to cars\n",
    "\n",
    "Now, let's re-define the two previous cars with dampers.\n",
    "\n",
    "The damping constants are defined as:\n",
    "\n",
    "$$c_s = 2 * m_s * dr * f * g$$\n",
    "\n",
    "...where $f$ is the frequency of the spring _in radians_, $dr$ is the _damping ratio_, and $g$ is gravity (9.81 m/s).\n",
    "\n",
    "We have the frequency of the suspension springs from the previous part: 0.7 Hz for the Civic, 1.0 Hz for the Ioniq 6. And we can convert to radians by multiplying those by $2\\pi$. However, we need the damping ratio.\n",
    "\n",
    "The damping ratio of a regular car is often between 0.2 and 0.25 ([source](https://www.researchgate.net/figure/ehicle-typical-damping-coefficient_tbl1_245401813)), so we will arbitrarily use 0.25 for the Civic and 0.2 for the electric car.\n",
    "\n",
    "So, for the Civic:\n",
    "\n",
    "$$c_{sf} = 2 * m_{sf} * 0.25 * (0.7 Hz * 2\\pi rads/Hz) * 9.81 m/s = 16063 Ns/m$$\n",
    "\n",
    "$$c_{sb} = 2 * m_{sb} * 0.25 * (0.7 Hz * 2\\pi rads/Hz) * 9.81 m/s = 10708.7 Ns/m$$\n",
    "\n",
    "And for the Ioniq 6:\n",
    "\n",
    "$$c_{sf} = c_{sb} = 2 * m_{sf} * 0.2 * (1.0 Hz * 2\\pi rads/Hz) * 9.81 m/s = 22991 Ns/m$$\n",
    "\n",
    "Now we can re-define our cars, and plot their vibrations on the roads."
   ]
  },
  {
   "cell_type": "code",
   "execution_count": null,
   "id": "17f714b6",
   "metadata": {
    "tags": []
   },
   "outputs": [],
   "source": [
    "# TODO: Define both cars with the damping constant.\n",
    "combustion_car_model_damped = ...\n",
    "electric_car_model_damped = ..."
   ]
  },
  {
   "cell_type": "code",
   "execution_count": null,
   "id": "519fa9ab",
   "metadata": {
    "tags": []
   },
   "outputs": [],
   "source": [
    "# TODO: Create a 3x2 plot. The first column will contain the same three graphs from the previous part, and the second column\n",
    "# will contain the same graphs but with the damped cars. Use the same y axis limits for plots for the same car.\n",
    "fig_vib4, axs_vib4 =  (..., ...)\n"
   ]
  },
  {
   "cell_type": "markdown",
   "id": "25e224fb",
   "metadata": {
    "deletable": false,
    "editable": false
   },
   "source": [
    "<!-- END QUESTION -->\n",
    "\n",
    "<!-- BEGIN QUESTION -->\n",
    "\n",
    "## Part 7, extra credit: Designing cars with fewer vibrations\n",
    "\n",
    "The cars we provided mimic actual cars out there, but are not perfect for reducing cabin vibration.\n",
    "\n",
    "Can you design an even more stable car cabin for the test roads?"
   ]
  },
  {
   "cell_type": "code",
   "execution_count": null,
   "id": "07673fe9",
   "metadata": {
    "tags": []
   },
   "outputs": [],
   "source": [
    "# TODO: Define a car model for your car.\n",
    "stable_car_model = ...\n"
   ]
  },
  {
   "cell_type": "code",
   "execution_count": null,
   "id": "6019618c",
   "metadata": {
    "tags": []
   },
   "outputs": [],
   "source": [
    "# TODO: Graph the vibration of your car against the damped electric and combustion car models on the three test roads."
   ]
  },
  {
   "cell_type": "markdown",
   "id": "c4c19f26",
   "metadata": {
    "deletable": false,
    "editable": false
   },
   "source": [
    "<!-- END QUESTION -->\n",
    "\n",
    "## Hours and collaborators\n",
    "Required for every assignment - fill out before you hand-in.\n",
    "\n",
    "Listing names and websites helps you to document who you worked with and what internet help you received in the case of any plagiarism issues. You should list names of anyone (in class or not) who has substantially helped you with an assignment - or anyone you have *helped*. You do not need to list TAs.\n",
    "\n",
    "Listing hours helps us track if the assignments are too long."
   ]
  },
  {
   "cell_type": "code",
   "execution_count": null,
   "id": "2016fcfc",
   "metadata": {
    "tags": []
   },
   "outputs": [],
   "source": [
    "\n",
    "# List of names (creates a set)\n",
    "worked_with_names = {\"not filled out\"}\n",
    "# List of URLS F25(creates a set)\n",
    "websites = {\"not filled out\"}\n",
    "# Approximate number of hours, including lab/in-class time\n",
    "hours = -1.5"
   ]
  },
  {
   "cell_type": "code",
   "execution_count": null,
   "id": "27678ea3",
   "metadata": {
    "deletable": false,
    "editable": false
   },
   "outputs": [],
   "source": [
    "grader.check(\"hours_collaborators\")"
   ]
  },
  {
   "cell_type": "markdown",
   "id": "07575ffc",
   "metadata": {},
   "source": [
    "### To submit\n",
    "\n",
    "Double check your plots. \n",
    "\n",
    "- Submit this .ipynb file to HW 3 (classes and simulation)\n",
    "\n",
    "Failures: None expected"
   ]
  }
 ],
 "metadata": {
  "kernelspec": {
   "display_name": "base",
   "language": "python",
   "name": "python3"
  },
  "language_info": {
   "codemirror_mode": {
    "name": "ipython",
    "version": 3
   },
   "file_extension": ".py",
   "mimetype": "text/x-python",
   "name": "python",
   "nbconvert_exporter": "python",
   "pygments_lexer": "ipython3",
   "version": "3.11.5"
  },
  "otter": {
   "OK_FORMAT": true,
   "tests": {
    "cars_no_damping": {
     "name": "cars_no_damping",
     "points": 5,
     "suites": [
      {
       "cases": [
        {
         "code": ">>> assert combustion_car_model.front.c_s == 0, 'All dampers must be set to 0.'\n>>> assert combustion_car_model.back.c_s == 0, 'All dampers must be set to 0.'\n>>> assert electric_car_model.front.c_s == 0, 'All dampers must be set to 0.'\n>>> assert electric_car_model.back.c_s == 0, 'All dampers must be set to 0.'\n",
         "hidden": false,
         "locked": false
        },
        {
         "code": ">>> assert np.isclose(combustion_car_model.front.m_s, 744.6)\n>>> assert np.isclose(combustion_car_model.back.m_s, 496.4)\n>>> assert np.isclose(combustion_car_model.front.m_u, 54)\n>>> assert np.isclose(combustion_car_model.back.m_u, 36)\n>>> assert np.isclose(combustion_car_model.front.k_s, 22506)\n>>> assert np.isclose(combustion_car_model.back.k_s, 15004)\n>>> assert np.isclose(combustion_car_model.front.k_t, 200000)\n>>> assert np.isclose(combustion_car_model.back.k_t, 200000)\n>>> assert np.isclose(combustion_car_model.a_f, 1.876)\n>>> assert np.isclose(combustion_car_model.a_b, 2.814)\n",
         "hidden": false,
         "locked": false
        },
        {
         "code": ">>> assert np.isclose(electric_car_model.front.m_s, 932.5)\n>>> assert np.isclose(electric_car_model.back.m_s, 932.5)\n>>> assert np.isclose(electric_car_model.front.m_u, 60)\n>>> assert np.isclose(electric_car_model.back.m_u, 60)\n>>> assert np.isclose(electric_car_model.front.k_s, 57521)\n>>> assert np.isclose(electric_car_model.back.k_s, 57521)\n>>> assert np.isclose(electric_car_model.front.k_t, 300000)\n>>> assert np.isclose(electric_car_model.back.k_t, 300000)\n>>> assert np.isclose(electric_car_model.a_f, 2.425)\n>>> assert np.isclose(electric_car_model.a_b, 2.425)\n",
         "hidden": false,
         "locked": false
        },
        {
         "code": ">>> assert X_r_test_3[-1] >= 40, 'Your road must be at least 40 meters long'\n",
         "hidden": false,
         "locked": false
        },
        {
         "code": ">>> assert len(X_r_test_3) > 5, 'Test road should contain at least 5 entries.'\n",
         "hidden": false,
         "locked": false
        },
        {
         "code": ">>> assert axs_vib3.shape == (3,), 'Graph should contain 3 subplots in a column.'\n",
         "hidden": false,
         "locked": false
        },
        {
         "code": ">>> assert len(axs_vib3[0].lines) == 2, 'Every graph should contain 2 lines'\n>>> assert len(axs_vib3[1].lines) == 2, 'Every graph should contain 2 lines'\n>>> assert len(axs_vib3[2].lines) == 2, 'Every graph should contain 2 lines'\n",
         "hidden": false,
         "locked": false
        },
        {
         "code": ">>> test_plot_maxes = [np.max(axs_vib3[0].lines[0].get_ydata()), np.max(axs_vib3[0].lines[1].get_ydata())]\n>>> test_plot_maxes.sort()\n>>> assert np.allclose(np.array(test_plot_maxes), np.array([0.9878986966013321, 1.9593764163628677])), 'The data in the first graph may be incorrect'\n",
         "hidden": false,
         "locked": false
        }
       ],
       "scored": true,
       "setup": "",
       "teardown": "",
       "type": "doctest"
      }
     ]
    },
    "draw_half_car": {
     "name": "draw_half_car",
     "points": 4,
     "suites": [
      {
       "cases": [
        {
         "code": ">>> assert len(axs_half_car.lines) == 14, 'Should have double the number of lines as a single quarter car'\n",
         "hidden": false,
         "locked": false
        },
        {
         "code": ">>> lines = list(axs_half_car.lines)\n>>> lines.sort(key=lambda line: [line.get_xdata()[0], np.max(line.get_ydata())])\n>>> l_tire, l_u_spring, l_s_spring, l_cylinder, l_plunger, l_bottom_rod, l_top_rod, r_cylinder, r_plunger, r_bottom_rod, r_top_rod, r_tire, r_u_spring, r_s_spring = lines\n>>> \n>>> def line_to_nparray(line):\n...     return np.array([line.get_xdata(), line.get_ydata()])\n>>> assert np.allclose(np.array([l_tire.get_xdata(), l_tire.get_ydata()]), np.array([[10], [0]])), 'Left tire not in expected position'\n>>> assert np.allclose(np.array([r_tire.get_xdata(), r_tire.get_ydata()]), np.array([[12.8], [0]])), 'Right tire not in expected position'\n>>> assert np.allclose(np.array([l_u_spring.get_xdata()[0], l_u_spring.get_ydata()[0]]), np.array([10, 0])), 'Left tire spring not in expected position'\n>>> assert np.allclose(np.array([r_u_spring.get_xdata()[0], r_u_spring.get_ydata()[0]]), np.array([12.8, 0])), 'Right tire spring not in expected position'\n>>> assert np.allclose(np.array([l_s_spring.get_xdata()[0], l_s_spring.get_ydata()[0]]), np.array([10, 0.8])), 'Left suspension spring not in expected position'\n>>> assert np.allclose(np.array([r_s_spring.get_xdata()[0], r_s_spring.get_ydata()[0]]), np.array([12.8, 0.8])), 'Right suspension spring not in expected position'\n>>> assert np.allclose(np.array([l_bottom_rod.get_xdata()[0], l_bottom_rod.get_ydata()[0]]), np.array([10.3, 0.8])), 'Left damper not in expected position'\n>>> assert np.allclose(np.array([r_bottom_rod.get_xdata()[0], r_bottom_rod.get_ydata()[0]]), np.array([12.5, 0.8])), 'Right damper not in expected position'\n",
         "hidden": false,
         "locked": false
        },
        {
         "code": ">>> polygons = [child for i, child in enumerate(axs_half_car.get_children()) if child.__class__.__name__ == 'Polygon']\n>>> assert len(polygons) == 3, 'Expected three rectangles in drawing'\n>>> polygons.sort(key=lambda polygon: polygon.get_xy()[0][0])\n>>> l_unsprung_mass, sprung_mass, r_unsprung_mass = polygons\n>>> assert np.min(l_unsprung_mass.get_xy()[:, 0]) < 10.0, 'Left unsprung mass needs to start earlier than x to contain the full spring'\n>>> assert np.isclose(np.min(l_unsprung_mass.get_xy()[:, 1]), 0.7), 'Left unsprung mass needs to start at y=y_u_static'\n>>> assert np.isclose(np.min(sprung_mass.get_xy()[:, 0]), 10.0), 'Sprung mass needs to start at x position'\n>>> assert np.isclose(np.max(sprung_mass.get_xy()[:, 0]), 12.8), 'Sprung mass needs to end at x position + car length'\n>>> assert np.isclose(np.min(sprung_mass.get_xy()[:, 1]), 1.6), 'Sprung mass needs to start at y=y_s_static'\n>>> assert np.max(r_unsprung_mass.get_xy()[:, 0]) > 12.8, 'Right unsprung mass needs to end after x position + car length to contain the full spring'\n>>> assert np.isclose(np.min(r_unsprung_mass.get_xy()[:, 1]), 0.7), 'Right unsprung mass needs to start at y=y_u_static'\n",
         "hidden": false,
         "locked": false
        }
       ],
       "scored": true,
       "setup": "",
       "teardown": "",
       "type": "doctest"
      }
     ]
    },
    "half_car_simulation_fix": {
     "name": "half_car_simulation_fix",
     "points": 2,
     "suites": [
      {
       "cases": [
        {
         "code": ">>> assert np.isclose(stretch_limo_model.Iy, 105800.0), 'Iy calculation is incorrect'\n",
         "hidden": false,
         "locked": false
        }
       ],
       "scored": true,
       "setup": "",
       "teardown": "",
       "type": "doctest"
      }
     ]
    },
    "hours_collaborators": {
     "name": "hours_collaborators",
     "points": 1,
     "suites": [
      {
       "cases": [
        {
         "code": ">>> assert not 'not filled out' in worked_with_names\n",
         "hidden": false,
         "locked": false
        },
        {
         "code": ">>> assert not 'not filled out' in websites\n",
         "hidden": false,
         "locked": false
        },
        {
         "code": ">>> assert hours > 0\n",
         "hidden": false,
         "locked": false
        }
       ],
       "scored": true,
       "setup": "",
       "teardown": "",
       "type": "doctest"
      }
     ]
    },
    "simulation_init_function": {
     "name": "simulation_init_function",
     "points": 1,
     "suites": [
      {
       "cases": [
        {
         "code": ">>> assert simulation_output.velocity == 1, 'velocity is not set correctly'\n",
         "hidden": false,
         "locked": false
        },
        {
         "code": ">>> assert np.isclose(simulation_output.time, np.array([2.0])).all(), 'time is not set correctly'\n",
         "hidden": false,
         "locked": false
        },
        {
         "code": ">>> assert simulation_output.dt == 3, 'dt is not set correctly'\n",
         "hidden": false,
         "locked": false
        },
        {
         "code": ">>> assert np.isclose(simulation_output.x_r, np.array([4.0])).all(), 'x_r is not set correctly'\n",
         "hidden": false,
         "locked": false
        },
        {
         "code": ">>> assert np.isclose(simulation_output.y_rf, np.array([5.0])).all(), 'y_rf is not set correctly'\n",
         "hidden": false,
         "locked": false
        },
        {
         "code": ">>> assert np.isclose(simulation_output.y_rb, np.array([6.0])).all(), 'y_rb is not set correctly'\n",
         "hidden": false,
         "locked": false
        },
        {
         "code": ">>> assert np.isclose(simulation_output.y_s, np.array([7.0])).all(), 'y_s is not set correctly'\n",
         "hidden": false,
         "locked": false
        },
        {
         "code": ">>> assert np.isclose(simulation_output.theta, np.array([8.0])).all(), 'theta is not set correctly'\n",
         "hidden": false,
         "locked": false
        },
        {
         "code": ">>> assert np.isclose(simulation_output.y_uf, np.array([9.0])).all(), 'y_uf is not set correctly'\n",
         "hidden": false,
         "locked": false
        },
        {
         "code": ">>> assert np.isclose(simulation_output.y_ub, np.array([10.0])).all(), 'y_ub is not set correctly'\n",
         "hidden": false,
         "locked": false
        }
       ],
       "scored": true,
       "setup": "",
       "teardown": "",
       "type": "doctest"
      }
     ]
    },
    "visualize_vibration": {
     "name": "visualize_vibration",
     "points": 3,
     "suites": [
      {
       "cases": [
        {
         "code": ">>> assert len(axs_vib[0].lines) == 1\n",
         "hidden": false,
         "locked": false
        },
        {
         "code": ">>> assert len(axs_vib[1].lines) == 1\n",
         "hidden": false,
         "locked": false
        },
        {
         "code": ">>> assert np.isclose(np.max(axs_vib[0].lines[0].get_ydata()), 0.8828910772788676)\n",
         "hidden": false,
         "locked": false
        },
        {
         "code": ">>> assert np.isclose(np.max(axs_vib[1].lines[0].get_ydata()), 0.5190838185895029)\n",
         "hidden": false,
         "locked": false
        },
        {
         "code": ">>> assert np.allclose(axs_vib[0].lines[0].get_ydata(), axs_vib2[0].lines[0].get_ydata()), 'First graph in axs_vib does not match first graph in axs_vib2.'\n",
         "hidden": false,
         "locked": false
        },
        {
         "code": ">>> assert np.allclose(axs_vib[1].lines[0].get_ydata(), axs_vib2[1].lines[0].get_ydata()), 'Second graph in axs_vib does not match second graph in axs_vib2.'\n",
         "hidden": false,
         "locked": false
        }
       ],
       "scored": true,
       "setup": "",
       "teardown": "",
       "type": "doctest"
      }
     ]
    }
   }
  }
 },
 "nbformat": 4,
 "nbformat_minor": 5
}
